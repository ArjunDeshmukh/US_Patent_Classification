{
  "metadata": {
    "kernelspec": {
      "language": "python",
      "display_name": "Python 3",
      "name": "python3"
    },
    "language_info": {
      "name": "python",
      "version": "3.7.12",
      "mimetype": "text/x-python",
      "codemirror_mode": {
        "name": "ipython",
        "version": 3
      },
      "pygments_lexer": "ipython3",
      "nbconvert_exporter": "python",
      "file_extension": ".py"
    },
    "colab": {
      "provenance": []
    }
  },
  "nbformat_minor": 0,
  "nbformat": 4,
  "cells": [
    {
      "cell_type": "markdown",
      "source": [
        "### Importing Libraries\n"
      ],
      "metadata": {
        "id": "83YXgK8eC0_B"
      }
    },
    {
      "cell_type": "code",
      "source": [
        "try:\n",
        "  import google.colab\n",
        "  IN_COLAB = True\n",
        "except:\n",
        "  IN_COLAB = False"
      ],
      "metadata": {
        "id": "6x774kWbGeJI"
      },
      "execution_count": 5,
      "outputs": []
    },
    {
      "cell_type": "code",
      "source": [
        "if IN_COLAB:\n",
        "  from google.colab import drive\n",
        "  drive.mount('/content/drive')"
      ],
      "metadata": {
        "id": "69ZldWGCDQ7n",
        "outputId": "79b2851e-64f9-4cac-a904-598c5e4cba68",
        "colab": {
          "base_uri": "https://localhost:8080/"
        }
      },
      "execution_count": 6,
      "outputs": [
        {
          "output_type": "stream",
          "name": "stdout",
          "text": [
            "Drive already mounted at /content/drive; to attempt to forcibly remount, call drive.mount(\"/content/drive\", force_remount=True).\n"
          ]
        }
      ]
    },
    {
      "cell_type": "code",
      "source": [
        "if IN_COLAB:\n",
        "  !pip install transformers"
      ],
      "metadata": {
        "id": "PjYyyi9tGGEL",
        "outputId": "0b1c893c-509b-4d89-87a9-c2b17d85c077",
        "colab": {
          "base_uri": "https://localhost:8080/"
        }
      },
      "execution_count": 7,
      "outputs": [
        {
          "output_type": "stream",
          "name": "stdout",
          "text": [
            "Looking in indexes: https://pypi.org/simple, https://us-python.pkg.dev/colab-wheels/public/simple/\n",
            "Collecting transformers\n",
            "  Downloading transformers-4.22.2-py3-none-any.whl (4.9 MB)\n",
            "\u001b[K     |████████████████████████████████| 4.9 MB 27.9 MB/s \n",
            "\u001b[?25hRequirement already satisfied: importlib-metadata in /usr/local/lib/python3.7/dist-packages (from transformers) (5.0.0)\n",
            "Collecting tokenizers!=0.11.3,<0.13,>=0.11.1\n",
            "  Downloading tokenizers-0.12.1-cp37-cp37m-manylinux_2_12_x86_64.manylinux2010_x86_64.whl (6.6 MB)\n",
            "\u001b[K     |████████████████████████████████| 6.6 MB 59.4 MB/s \n",
            "\u001b[?25hRequirement already satisfied: packaging>=20.0 in /usr/local/lib/python3.7/dist-packages (from transformers) (21.3)\n",
            "Requirement already satisfied: pyyaml>=5.1 in /usr/local/lib/python3.7/dist-packages (from transformers) (6.0)\n",
            "Requirement already satisfied: filelock in /usr/local/lib/python3.7/dist-packages (from transformers) (3.8.0)\n",
            "Requirement already satisfied: requests in /usr/local/lib/python3.7/dist-packages (from transformers) (2.23.0)\n",
            "Collecting huggingface-hub<1.0,>=0.9.0\n",
            "  Downloading huggingface_hub-0.10.0-py3-none-any.whl (163 kB)\n",
            "\u001b[K     |████████████████████████████████| 163 kB 68.8 MB/s \n",
            "\u001b[?25hRequirement already satisfied: numpy>=1.17 in /usr/local/lib/python3.7/dist-packages (from transformers) (1.21.6)\n",
            "Requirement already satisfied: regex!=2019.12.17 in /usr/local/lib/python3.7/dist-packages (from transformers) (2022.6.2)\n",
            "Requirement already satisfied: tqdm>=4.27 in /usr/local/lib/python3.7/dist-packages (from transformers) (4.64.1)\n",
            "Requirement already satisfied: typing-extensions>=3.7.4.3 in /usr/local/lib/python3.7/dist-packages (from huggingface-hub<1.0,>=0.9.0->transformers) (4.1.1)\n",
            "Requirement already satisfied: pyparsing!=3.0.5,>=2.0.2 in /usr/local/lib/python3.7/dist-packages (from packaging>=20.0->transformers) (3.0.9)\n",
            "Requirement already satisfied: zipp>=0.5 in /usr/local/lib/python3.7/dist-packages (from importlib-metadata->transformers) (3.8.1)\n",
            "Requirement already satisfied: urllib3!=1.25.0,!=1.25.1,<1.26,>=1.21.1 in /usr/local/lib/python3.7/dist-packages (from requests->transformers) (1.24.3)\n",
            "Requirement already satisfied: idna<3,>=2.5 in /usr/local/lib/python3.7/dist-packages (from requests->transformers) (2.10)\n",
            "Requirement already satisfied: certifi>=2017.4.17 in /usr/local/lib/python3.7/dist-packages (from requests->transformers) (2022.9.24)\n",
            "Requirement already satisfied: chardet<4,>=3.0.2 in /usr/local/lib/python3.7/dist-packages (from requests->transformers) (3.0.4)\n",
            "Installing collected packages: tokenizers, huggingface-hub, transformers\n",
            "Successfully installed huggingface-hub-0.10.0 tokenizers-0.12.1 transformers-4.22.2\n"
          ]
        }
      ]
    },
    {
      "cell_type": "code",
      "source": [
        "import requests\n",
        "import json\n",
        "import sys\n",
        "import pandas as pd\n",
        "import os.path\n",
        "import matplotlib.pyplot as plt\n",
        "import numpy as np\n",
        "import math\n",
        "\n",
        "import time\n",
        "from tqdm import tqdm\n",
        "\n",
        "from google.cloud import bigquery\n",
        "from google.oauth2 import service_account\n",
        "\n",
        "from transformers import AutoModelForMaskedLM\n",
        "from transformers import AutoModel, AutoConfig, AutoTokenizer, get_linear_schedule_with_warmup, get_cosine_schedule_with_warmup, DataCollatorWithPadding\n",
        "\n",
        "import torch\n",
        "from torch.profiler import profile, record_function, ProfilerActivity\n",
        "import torch.nn.functional as F\n",
        "from torch.optim import Adam, SGD, AdamW\n",
        "from torch.utils.data import Dataset, DataLoader, IterableDataset\n",
        "from torch.nn.utils.rnn import pad_sequence\n",
        "\n",
        "from sklearn.model_selection import StratifiedKFold, GroupKFold, KFold\n",
        "\n",
        "import warnings\n",
        "\n",
        "warnings.filterwarnings(\"ignore\")\n",
        "\n",
        "device = torch.device('cuda' if torch.cuda.is_available() else 'cpu')\n",
        "\n",
        "import os\n",
        "os.environ[\"TOKENIZERS_PARALLELISM\"] = \"false\""
      ],
      "metadata": {
        "_uuid": "8f2839f25d086af736a60e9eeb907d3b93b6e0e5",
        "_cell_guid": "b1076dfc-b9ad-4769-8c92-a6c4dae69d19",
        "execution": {
          "iopub.status.busy": "2022-10-01T13:54:27.252645Z",
          "iopub.execute_input": "2022-10-01T13:54:27.253613Z",
          "iopub.status.idle": "2022-10-01T13:54:34.383166Z",
          "shell.execute_reply.started": "2022-10-01T13:54:27.253517Z",
          "shell.execute_reply": "2022-10-01T13:54:34.382100Z"
        },
        "trusted": true,
        "id": "e7bR6yPtC0_E"
      },
      "execution_count": 8,
      "outputs": []
    },
    {
      "cell_type": "markdown",
      "source": [
        "### Define configuration constants"
      ],
      "metadata": {
        "id": "FZvI20qjC0_G"
      }
    },
    {
      "cell_type": "code",
      "source": [
        "class CFG:\n",
        "  CPC_CODES_PATH = \"../input/cpc-code-upto-subclass/CPC_codes_upto_subclass.csv\"\n",
        "  BERT_FOR_PATENTS_PATH = \"../input/bert-for-patents/bert-for-patents-pytorch\"\n",
        "  DEBERTA_V3_LARGE_PATH = \"../input/deberta-v3-large/deberta-v3-large\"\n",
        "  CPC_CODES_NUM_PATENTS_PATH = \"../input/cpc-code-num-patents/cpc_code_num_patents.csv\"\n",
        "  MAX_TOKEN_LEN = 512\n",
        "  DROPOUT_PROB = 0.2\n",
        "  ATTENTION_INTERMEDIATE_SIZE = 512\n",
        "  GOOGLE_CLOUD_CRED_JSON = '../input/googlecloudcred/us-patent-classification-d344a6ddc702.json'\n",
        "  GOOGLE_CLOUD_PROJ_ID = 'us-patent-classification'\n",
        "  BATCH_SIZE = 8\n",
        "  NUM_EPOCHS = 5\n",
        "  TRAIN_PATENT_START_YEAR = 2001\n",
        "  TRAIN_PATENT_END_YEAR = 2018\n",
        "  TEST_PATENT_START_YEAR = 2019\n",
        "  TEST_PATENT_END_YEAR = 2022\n",
        "  NUM_FOLDS = 6 #Total number of years used for training should be divisible by this number\n",
        "  ENCODER_LR = 2e-5\n",
        "  DECODER_LR = 2e-5\n",
        "  MIN_LR = 1e-6\n",
        "  EPS = 1e-6\n",
        "  WEIGHT_DECAY = 0.01\n",
        "  SCHEDULER = 'linear'\n",
        "  NUM_WARMUP_STEPS = 0\n",
        "  NUM_CYCLES = 0.5\n",
        "  BETAS=(0.9, 0.999)\n",
        "  MAX_GRAD_NORM = 1000\n",
        "  PRINT_FREQ = 5\n",
        "  INFINITY = 1e6\n",
        "  F_TRAIN = 1\n",
        "  \n",
        "  # Parameters which will be added in subsequent code:\n",
        "  # NUM_CLASSES, TRAIN_NUM_PATENTS\n",
        "\n",
        "if IN_COLAB:\n",
        "  CFG.CPC_CODES_PATH = \"/content/drive/MyDrive/MachineLearning/ML_Deployment/Patent_Class_Inputs/cpc-code-upto-subclass/CPC_codes_upto_subclass.csv\"\n",
        "  CFG.BERT_FOR_PATENTS_PATH = \"/content/drive/MyDrive/MachineLearning/ML_Deployment/Patent_Class_Inputs/bert-for-patents-pytorch\"\n",
        "  CFG.GOOGLE_CLOUD_CRED_JSON = \"/content/drive/MyDrive/MachineLearning/ML_Deployment/Patent_Class_Inputs/googlecloudcred/us-patent-classification-d344a6ddc702.json\""
      ],
      "metadata": {
        "execution": {
          "iopub.status.busy": "2022-10-01T13:54:34.385272Z",
          "iopub.execute_input": "2022-10-01T13:54:34.386952Z",
          "iopub.status.idle": "2022-10-01T13:54:34.394829Z",
          "shell.execute_reply.started": "2022-10-01T13:54:34.386912Z",
          "shell.execute_reply": "2022-10-01T13:54:34.393868Z"
        },
        "trusted": true,
        "id": "TnAfPfmSC0_G"
      },
      "execution_count": 13,
      "outputs": []
    },
    {
      "cell_type": "markdown",
      "source": [
        "### List of CPC codes"
      ],
      "metadata": {
        "id": "07hZ1QpUC0_H"
      }
    },
    {
      "cell_type": "code",
      "source": [
        "cpc_codes_upto_subclass_df = pd.read_csv(CFG.CPC_CODES_PATH)\n",
        "cpc_codes_upto_subclass_df.head()\n",
        "num_codes = len(pd.unique(cpc_codes_upto_subclass_df['code']))\n",
        "df_len = len(cpc_codes_upto_subclass_df)\n",
        "CFG.NUM_CLASSES = df_len\n",
        "print(\"Number of rows in dataframe: \", df_len, \"\\n\")\n",
        "print(\"Number of CPC codes upto subclass: \", num_codes)\n",
        "cpc_code_dict = dict(zip(cpc_codes_upto_subclass_df['code'].values, cpc_codes_upto_subclass_df.index))"
      ],
      "metadata": {
        "execution": {
          "iopub.status.busy": "2022-10-01T13:54:34.398390Z",
          "iopub.execute_input": "2022-10-01T13:54:34.398747Z",
          "iopub.status.idle": "2022-10-01T13:54:34.441865Z",
          "shell.execute_reply.started": "2022-10-01T13:54:34.398719Z",
          "shell.execute_reply": "2022-10-01T13:54:34.440885Z"
        },
        "trusted": true,
        "id": "v_Bg2DLLC0_H",
        "outputId": "fc16f659-9965-44cb-cf2b-0b4c965ef705",
        "colab": {
          "base_uri": "https://localhost:8080/"
        }
      },
      "execution_count": 14,
      "outputs": [
        {
          "output_type": "stream",
          "name": "stdout",
          "text": [
            "Number of rows in dataframe:  674 \n",
            "\n",
            "Number of CPC codes upto subclass:  674\n"
          ]
        }
      ]
    },
    {
      "cell_type": "code",
      "source": [
        "list(cpc_code_dict.keys())[:1]"
      ],
      "metadata": {
        "execution": {
          "iopub.status.busy": "2022-10-01T13:54:34.443444Z",
          "iopub.execute_input": "2022-10-01T13:54:34.443801Z",
          "iopub.status.idle": "2022-10-01T13:54:34.454879Z",
          "shell.execute_reply.started": "2022-10-01T13:54:34.443764Z",
          "shell.execute_reply": "2022-10-01T13:54:34.452908Z"
        },
        "trusted": true,
        "id": "3BDTdgvbC0_I",
        "outputId": "b11e993b-ce39-4f3a-9224-dd049aae0cff",
        "colab": {
          "base_uri": "https://localhost:8080/"
        }
      },
      "execution_count": 15,
      "outputs": [
        {
          "output_type": "execute_result",
          "data": {
            "text/plain": [
              "['A01B']"
            ]
          },
          "metadata": {},
          "execution_count": 15
        }
      ]
    },
    {
      "cell_type": "markdown",
      "source": [
        "### Accessing Google Cloud BigQuery Public Patent Data"
      ],
      "metadata": {
        "id": "BoXN9pUqC0_J"
      }
    },
    {
      "cell_type": "code",
      "source": [
        "credentials = service_account.Credentials.from_service_account_file(CFG.GOOGLE_CLOUD_CRED_JSON)\n",
        "\n",
        "project_id = CFG.GOOGLE_CLOUD_PROJ_ID\n",
        "bq_client = bigquery.Client(credentials= credentials, project = project_id)"
      ],
      "metadata": {
        "execution": {
          "iopub.status.busy": "2022-10-01T13:54:34.458993Z",
          "iopub.execute_input": "2022-10-01T13:54:34.459252Z",
          "iopub.status.idle": "2022-10-01T13:54:34.473896Z",
          "shell.execute_reply.started": "2022-10-01T13:54:34.459227Z",
          "shell.execute_reply": "2022-10-01T13:54:34.473050Z"
        },
        "trusted": true,
        "id": "NbRLLruwC0_J"
      },
      "execution_count": 16,
      "outputs": []
    },
    {
      "cell_type": "code",
      "source": [
        "'''\n",
        "\n",
        "start_time = time.time()\n",
        "    \n",
        "cpc_code = cpc_codes_upto_subclass_df.iloc[1]['code']\n",
        "\n",
        "query1 = r\"\"\"\n",
        "SELECT DISTINCT t1.id, t2.group_id, t1.abstract\n",
        "FROM `patents-public-data.patentsview.patent` t1, `patents-public-data.patentsview.cpc_current` t2 \n",
        "WHERE t1.id = t2.patent_id AND t1.type='utility' AND timestamp(t1.date) >= timestamp('2000-01-01') AND timestamp(t1.date) <= timestamp('2018-12-31')\n",
        "ORDER BY t1.id ASC, t2.group_id\n",
        "LIMIT 64\n",
        "OFFSET 0\n",
        "\"\"\"\n",
        "\n",
        "query2 = r\"\"\"\n",
        "SELECT COUNT(CPCCode) AS num_patents\n",
        "FROM(\n",
        "SELECT DISTINCT t1.id AS PatentID, t2.group_id AS CPCCode\n",
        "FROM `patents-public-data.patentsview.patent` t1,\n",
        "`patents-public-data.patentsview.cpc_current` t2 where t1.id = t2.patent_id\n",
        "and t1.type='utility'\n",
        "and t2.group_id = '{}'\n",
        "and timestamp(t1.date) >= timestamp('2000-01-01')\n",
        ")\n",
        "\"\"\".format(cpc_code)\n",
        "\n",
        "\n",
        "df1 = bq_client.query(query1).to_dataframe()\n",
        "#df2 = bq_client.query(query2).to_dataframe()\n",
        "\n",
        "    \n",
        "end_time = time.time()\n",
        "\n",
        "print(\"Time taken: \", end_time - start_time, \" seconds\")\n",
        "\n",
        "df_curr = df1.loc[df1['id'] == df1['id'].unique()[1]]\n",
        "label_list = []\n",
        "label_list.append(list(df_curr['group_id']))\n",
        "label_list\n",
        "\n",
        "'''"
      ],
      "metadata": {
        "execution": {
          "iopub.status.busy": "2022-10-01T13:54:34.476625Z",
          "iopub.execute_input": "2022-10-01T13:54:34.476912Z",
          "iopub.status.idle": "2022-10-01T13:54:34.483640Z",
          "shell.execute_reply.started": "2022-10-01T13:54:34.476880Z",
          "shell.execute_reply": "2022-10-01T13:54:34.482579Z"
        },
        "trusted": true,
        "id": "HEwBH10kC0_K",
        "outputId": "f08e1c92-54d8-4e55-ec8b-29d28a8b1d40",
        "colab": {
          "base_uri": "https://localhost:8080/",
          "height": 105
        }
      },
      "execution_count": 17,
      "outputs": [
        {
          "output_type": "execute_result",
          "data": {
            "text/plain": [
              "'\\n\\nstart_time = time.time()\\n    \\ncpc_code = cpc_codes_upto_subclass_df.iloc[1][\\'code\\']\\n\\nquery1 = r\"\"\"\\nSELECT DISTINCT t1.id, t2.group_id, t1.abstract\\nFROM `patents-public-data.patentsview.patent` t1, `patents-public-data.patentsview.cpc_current` t2 \\nWHERE t1.id = t2.patent_id AND t1.type=\\'utility\\' AND timestamp(t1.date) >= timestamp(\\'2000-01-01\\') AND timestamp(t1.date) <= timestamp(\\'2018-12-31\\')\\nORDER BY t1.id ASC, t2.group_id\\nLIMIT 64\\nOFFSET 0\\n\"\"\"\\n\\nquery2 = r\"\"\"\\nSELECT COUNT(CPCCode) AS num_patents\\nFROM(\\nSELECT DISTINCT t1.id AS PatentID, t2.group_id AS CPCCode\\nFROM `patents-public-data.patentsview.patent` t1,\\n`patents-public-data.patentsview.cpc_current` t2 where t1.id = t2.patent_id\\nand t1.type=\\'utility\\'\\nand t2.group_id = \\'{}\\'\\nand timestamp(t1.date) >= timestamp(\\'2000-01-01\\')\\n)\\n\"\"\".format(cpc_code)\\n\\n\\ndf1 = bq_client.query(query1).to_dataframe()\\n#df2 = bq_client.query(query2).to_dataframe()\\n\\n    \\nend_time = time.time()\\n\\nprint(\"Time taken: \", end_time - start_time, \" seconds\")\\n\\ndf_curr = df1.loc[df1[\\'id\\'] == df1[\\'id\\'].unique()[1]]\\nlabel_list = []\\nlabel_list.append(list(df_curr[\\'group_id\\']))\\nlabel_list\\n\\n'"
            ],
            "application/vnd.google.colaboratory.intrinsic+json": {
              "type": "string"
            }
          },
          "metadata": {},
          "execution_count": 17
        }
      ]
    },
    {
      "cell_type": "markdown",
      "source": [
        "### Count the number of patents for each cpc_code"
      ],
      "metadata": {
        "id": "2EZi48ItC0_L"
      }
    },
    {
      "cell_type": "code",
      "source": [
        "if os.path.exists(CFG.CPC_CODES_NUM_PATENTS_PATH):\n",
        "    \n",
        "    cpc_code_number_df = pd.read_csv(CFG.CPC_CODES_NUM_PATENTS_PATH)\n",
        "    \n",
        "else:\n",
        "\n",
        "    cpc_code_number_df = pd.DataFrame() \n",
        "\n",
        "    for cpc_code in tqdm(list(cpc_code_dict.keys())):\n",
        "        \n",
        "        start_date = r'{}-01-01'.format(CFG.TRAIN_PATENT_START_YEAR)\n",
        "        end_date = r'{}-12-31'.format(CFG.TRAIN_PATENT_END_YEAR)\n",
        "\n",
        "        query = r\"\"\"\n",
        "                 SELECT COUNT(CPCCode) AS num_patents\n",
        "                 FROM(\n",
        "                 SELECT DISTINCT t1.id AS PatentID, t2.group_id AS CPCCode\n",
        "                 FROM `patents-public-data.patentsview.patent` t1,\n",
        "                 `patents-public-data.patentsview.cpc_current` t2 where t1.id = t2.patent_id\n",
        "                 and t1.type='utility'\n",
        "                 and t2.group_id = '{}'\n",
        "                 and timestamp(t1.date) >= timestamp('{}') and timestamp(t1.date) <= timestamp('{}')\n",
        "                 )\"\"\".format(cpc_code, start_date, end_date)\n",
        "        \n",
        "        df = bq_client.query(query).to_dataframe()\n",
        "        df.insert(loc = 0, column = 'cpc_code', value = cpc_code)\n",
        "\n",
        "        cpc_code_number_df = cpc_code_number_df.append(df, ignore_index = True)\n",
        "\n",
        "\n",
        "    cpc_code_number_df.to_csv('./cpc_code_num_patents.csv')"
      ],
      "metadata": {
        "execution": {
          "iopub.status.busy": "2022-10-01T13:54:34.485501Z",
          "iopub.execute_input": "2022-10-01T13:54:34.486217Z",
          "iopub.status.idle": "2022-10-01T13:54:34.506332Z",
          "shell.execute_reply.started": "2022-10-01T13:54:34.486181Z",
          "shell.execute_reply": "2022-10-01T13:54:34.505281Z"
        },
        "trusted": true,
        "id": "_br00WWoC0_M",
        "outputId": "1261e4d4-bad9-4e18-afb0-625673f25c98",
        "colab": {
          "base_uri": "https://localhost:8080/",
          "height": 450
        }
      },
      "execution_count": 18,
      "outputs": [
        {
          "output_type": "stream",
          "name": "stderr",
          "text": [
            "  0%|          | 1/674 [00:09<1:48:19,  9.66s/it]\n"
          ]
        },
        {
          "output_type": "error",
          "ename": "KeyboardInterrupt",
          "evalue": "ignored",
          "traceback": [
            "\u001b[0;31m---------------------------------------------------------------------------\u001b[0m",
            "\u001b[0;31mTypeError\u001b[0m                                 Traceback (most recent call last)",
            "\u001b[0;32m/usr/local/lib/python3.7/dist-packages/urllib3/connectionpool.py\u001b[0m in \u001b[0;36m_make_request\u001b[0;34m(self, conn, method, url, timeout, chunked, **httplib_request_kw)\u001b[0m\n\u001b[1;32m    376\u001b[0m             \u001b[0;32mtry\u001b[0m\u001b[0;34m:\u001b[0m  \u001b[0;31m# Python 2.7, use buffering of HTTP responses\u001b[0m\u001b[0;34m\u001b[0m\u001b[0;34m\u001b[0m\u001b[0m\n\u001b[0;32m--> 377\u001b[0;31m                 \u001b[0mhttplib_response\u001b[0m \u001b[0;34m=\u001b[0m \u001b[0mconn\u001b[0m\u001b[0;34m.\u001b[0m\u001b[0mgetresponse\u001b[0m\u001b[0;34m(\u001b[0m\u001b[0mbuffering\u001b[0m\u001b[0;34m=\u001b[0m\u001b[0;32mTrue\u001b[0m\u001b[0;34m)\u001b[0m\u001b[0;34m\u001b[0m\u001b[0;34m\u001b[0m\u001b[0m\n\u001b[0m\u001b[1;32m    378\u001b[0m             \u001b[0;32mexcept\u001b[0m \u001b[0mTypeError\u001b[0m\u001b[0;34m:\u001b[0m  \u001b[0;31m# Python 3\u001b[0m\u001b[0;34m\u001b[0m\u001b[0;34m\u001b[0m\u001b[0m\n",
            "\u001b[0;31mTypeError\u001b[0m: getresponse() got an unexpected keyword argument 'buffering'",
            "\nDuring handling of the above exception, another exception occurred:\n",
            "\u001b[0;31mKeyboardInterrupt\u001b[0m                         Traceback (most recent call last)",
            "\u001b[0;32m<ipython-input-18-84b397f3c96e>\u001b[0m in \u001b[0;36m<module>\u001b[0;34m\u001b[0m\n\u001b[1;32m     23\u001b[0m                  )\"\"\".format(cpc_code, start_date, end_date)\n\u001b[1;32m     24\u001b[0m \u001b[0;34m\u001b[0m\u001b[0m\n\u001b[0;32m---> 25\u001b[0;31m         \u001b[0mdf\u001b[0m \u001b[0;34m=\u001b[0m \u001b[0mbq_client\u001b[0m\u001b[0;34m.\u001b[0m\u001b[0mquery\u001b[0m\u001b[0;34m(\u001b[0m\u001b[0mquery\u001b[0m\u001b[0;34m)\u001b[0m\u001b[0;34m.\u001b[0m\u001b[0mto_dataframe\u001b[0m\u001b[0;34m(\u001b[0m\u001b[0;34m)\u001b[0m\u001b[0;34m\u001b[0m\u001b[0;34m\u001b[0m\u001b[0m\n\u001b[0m\u001b[1;32m     26\u001b[0m         \u001b[0mdf\u001b[0m\u001b[0;34m.\u001b[0m\u001b[0minsert\u001b[0m\u001b[0;34m(\u001b[0m\u001b[0mloc\u001b[0m \u001b[0;34m=\u001b[0m \u001b[0;36m0\u001b[0m\u001b[0;34m,\u001b[0m \u001b[0mcolumn\u001b[0m \u001b[0;34m=\u001b[0m \u001b[0;34m'cpc_code'\u001b[0m\u001b[0;34m,\u001b[0m \u001b[0mvalue\u001b[0m \u001b[0;34m=\u001b[0m \u001b[0mcpc_code\u001b[0m\u001b[0;34m)\u001b[0m\u001b[0;34m\u001b[0m\u001b[0;34m\u001b[0m\u001b[0m\n\u001b[1;32m     27\u001b[0m \u001b[0;34m\u001b[0m\u001b[0m\n",
            "\u001b[0;32m/usr/local/lib/python3.7/dist-packages/google/cloud/bigquery/job.py\u001b[0m in \u001b[0;36mto_dataframe\u001b[0;34m(self, bqstorage_client, dtypes, progress_bar_type)\u001b[0m\n\u001b[1;32m   3103\u001b[0m             \u001b[0mValueError\u001b[0m\u001b[0;34m:\u001b[0m \u001b[0mIf\u001b[0m \u001b[0mthe\u001b[0m\u001b[0;31m \u001b[0m\u001b[0;31m`\u001b[0m\u001b[0mpandas\u001b[0m\u001b[0;31m`\u001b[0m \u001b[0mlibrary\u001b[0m \u001b[0mcannot\u001b[0m \u001b[0mbe\u001b[0m \u001b[0mimported\u001b[0m\u001b[0;34m.\u001b[0m\u001b[0;34m\u001b[0m\u001b[0;34m\u001b[0m\u001b[0m\n\u001b[1;32m   3104\u001b[0m         \"\"\"\n\u001b[0;32m-> 3105\u001b[0;31m         return self.result().to_dataframe(\n\u001b[0m\u001b[1;32m   3106\u001b[0m             \u001b[0mbqstorage_client\u001b[0m\u001b[0;34m=\u001b[0m\u001b[0mbqstorage_client\u001b[0m\u001b[0;34m,\u001b[0m\u001b[0;34m\u001b[0m\u001b[0;34m\u001b[0m\u001b[0m\n\u001b[1;32m   3107\u001b[0m             \u001b[0mdtypes\u001b[0m\u001b[0;34m=\u001b[0m\u001b[0mdtypes\u001b[0m\u001b[0;34m,\u001b[0m\u001b[0;34m\u001b[0m\u001b[0;34m\u001b[0m\u001b[0m\n",
            "\u001b[0;32m/usr/local/lib/python3.7/dist-packages/google/cloud/bigquery/job.py\u001b[0m in \u001b[0;36mresult\u001b[0;34m(self, timeout, page_size, retry, max_results)\u001b[0m\n\u001b[1;32m   2972\u001b[0m         \"\"\"\n\u001b[1;32m   2973\u001b[0m         \u001b[0;32mtry\u001b[0m\u001b[0;34m:\u001b[0m\u001b[0;34m\u001b[0m\u001b[0;34m\u001b[0m\u001b[0m\n\u001b[0;32m-> 2974\u001b[0;31m             \u001b[0msuper\u001b[0m\u001b[0;34m(\u001b[0m\u001b[0mQueryJob\u001b[0m\u001b[0;34m,\u001b[0m \u001b[0mself\u001b[0m\u001b[0;34m)\u001b[0m\u001b[0;34m.\u001b[0m\u001b[0mresult\u001b[0m\u001b[0;34m(\u001b[0m\u001b[0mtimeout\u001b[0m\u001b[0;34m=\u001b[0m\u001b[0mtimeout\u001b[0m\u001b[0;34m)\u001b[0m\u001b[0;34m\u001b[0m\u001b[0;34m\u001b[0m\u001b[0m\n\u001b[0m\u001b[1;32m   2975\u001b[0m \u001b[0;34m\u001b[0m\u001b[0m\n\u001b[1;32m   2976\u001b[0m             \u001b[0;31m# Return an iterator instead of returning the job.\u001b[0m\u001b[0;34m\u001b[0m\u001b[0;34m\u001b[0m\u001b[0;34m\u001b[0m\u001b[0m\n",
            "\u001b[0;32m/usr/local/lib/python3.7/dist-packages/google/cloud/bigquery/job.py\u001b[0m in \u001b[0;36mresult\u001b[0;34m(self, timeout, retry)\u001b[0m\n\u001b[1;32m    766\u001b[0m             \u001b[0mself\u001b[0m\u001b[0;34m.\u001b[0m\u001b[0m_begin\u001b[0m\u001b[0;34m(\u001b[0m\u001b[0mretry\u001b[0m\u001b[0;34m=\u001b[0m\u001b[0mretry\u001b[0m\u001b[0;34m)\u001b[0m\u001b[0;34m\u001b[0m\u001b[0;34m\u001b[0m\u001b[0m\n\u001b[1;32m    767\u001b[0m         \u001b[0;31m# TODO: modify PollingFuture so it can pass a retry argument to done().\u001b[0m\u001b[0;34m\u001b[0m\u001b[0;34m\u001b[0m\u001b[0;34m\u001b[0m\u001b[0m\n\u001b[0;32m--> 768\u001b[0;31m         \u001b[0;32mreturn\u001b[0m \u001b[0msuper\u001b[0m\u001b[0;34m(\u001b[0m\u001b[0m_AsyncJob\u001b[0m\u001b[0;34m,\u001b[0m \u001b[0mself\u001b[0m\u001b[0;34m)\u001b[0m\u001b[0;34m.\u001b[0m\u001b[0mresult\u001b[0m\u001b[0;34m(\u001b[0m\u001b[0mtimeout\u001b[0m\u001b[0;34m=\u001b[0m\u001b[0mtimeout\u001b[0m\u001b[0;34m)\u001b[0m\u001b[0;34m\u001b[0m\u001b[0;34m\u001b[0m\u001b[0m\n\u001b[0m\u001b[1;32m    769\u001b[0m \u001b[0;34m\u001b[0m\u001b[0m\n\u001b[1;32m    770\u001b[0m     \u001b[0;32mdef\u001b[0m \u001b[0mcancelled\u001b[0m\u001b[0;34m(\u001b[0m\u001b[0mself\u001b[0m\u001b[0;34m)\u001b[0m\u001b[0;34m:\u001b[0m\u001b[0;34m\u001b[0m\u001b[0;34m\u001b[0m\u001b[0m\n",
            "\u001b[0;32m/usr/local/lib/python3.7/dist-packages/google/api_core/future/polling.py\u001b[0m in \u001b[0;36mresult\u001b[0;34m(self, timeout, retry)\u001b[0m\n\u001b[1;32m    128\u001b[0m         \"\"\"\n\u001b[1;32m    129\u001b[0m         \u001b[0mkwargs\u001b[0m \u001b[0;34m=\u001b[0m \u001b[0;34m{\u001b[0m\u001b[0;34m}\u001b[0m \u001b[0;32mif\u001b[0m \u001b[0mretry\u001b[0m \u001b[0;32mis\u001b[0m \u001b[0mDEFAULT_RETRY\u001b[0m \u001b[0;32melse\u001b[0m \u001b[0;34m{\u001b[0m\u001b[0;34m\"retry\"\u001b[0m\u001b[0;34m:\u001b[0m \u001b[0mretry\u001b[0m\u001b[0;34m}\u001b[0m\u001b[0;34m\u001b[0m\u001b[0;34m\u001b[0m\u001b[0m\n\u001b[0;32m--> 130\u001b[0;31m         \u001b[0mself\u001b[0m\u001b[0;34m.\u001b[0m\u001b[0m_blocking_poll\u001b[0m\u001b[0;34m(\u001b[0m\u001b[0mtimeout\u001b[0m\u001b[0;34m=\u001b[0m\u001b[0mtimeout\u001b[0m\u001b[0;34m,\u001b[0m \u001b[0;34m**\u001b[0m\u001b[0mkwargs\u001b[0m\u001b[0;34m)\u001b[0m\u001b[0;34m\u001b[0m\u001b[0;34m\u001b[0m\u001b[0m\n\u001b[0m\u001b[1;32m    131\u001b[0m \u001b[0;34m\u001b[0m\u001b[0m\n\u001b[1;32m    132\u001b[0m         \u001b[0;32mif\u001b[0m \u001b[0mself\u001b[0m\u001b[0;34m.\u001b[0m\u001b[0m_exception\u001b[0m \u001b[0;32mis\u001b[0m \u001b[0;32mnot\u001b[0m \u001b[0;32mNone\u001b[0m\u001b[0;34m:\u001b[0m\u001b[0;34m\u001b[0m\u001b[0;34m\u001b[0m\u001b[0m\n",
            "\u001b[0;32m/usr/local/lib/python3.7/dist-packages/google/cloud/bigquery/job.py\u001b[0m in \u001b[0;36m_blocking_poll\u001b[0;34m(self, timeout)\u001b[0m\n\u001b[1;32m   2884\u001b[0m     \u001b[0;32mdef\u001b[0m \u001b[0m_blocking_poll\u001b[0m\u001b[0;34m(\u001b[0m\u001b[0mself\u001b[0m\u001b[0;34m,\u001b[0m \u001b[0mtimeout\u001b[0m\u001b[0;34m=\u001b[0m\u001b[0;32mNone\u001b[0m\u001b[0;34m)\u001b[0m\u001b[0;34m:\u001b[0m\u001b[0;34m\u001b[0m\u001b[0;34m\u001b[0m\u001b[0m\n\u001b[1;32m   2885\u001b[0m         \u001b[0mself\u001b[0m\u001b[0;34m.\u001b[0m\u001b[0m_done_timeout\u001b[0m \u001b[0;34m=\u001b[0m \u001b[0mtimeout\u001b[0m\u001b[0;34m\u001b[0m\u001b[0;34m\u001b[0m\u001b[0m\n\u001b[0;32m-> 2886\u001b[0;31m         \u001b[0msuper\u001b[0m\u001b[0;34m(\u001b[0m\u001b[0mQueryJob\u001b[0m\u001b[0;34m,\u001b[0m \u001b[0mself\u001b[0m\u001b[0;34m)\u001b[0m\u001b[0;34m.\u001b[0m\u001b[0m_blocking_poll\u001b[0m\u001b[0;34m(\u001b[0m\u001b[0mtimeout\u001b[0m\u001b[0;34m=\u001b[0m\u001b[0mtimeout\u001b[0m\u001b[0;34m)\u001b[0m\u001b[0;34m\u001b[0m\u001b[0;34m\u001b[0m\u001b[0m\n\u001b[0m\u001b[1;32m   2887\u001b[0m \u001b[0;34m\u001b[0m\u001b[0m\n\u001b[1;32m   2888\u001b[0m     \u001b[0;34m@\u001b[0m\u001b[0mstaticmethod\u001b[0m\u001b[0;34m\u001b[0m\u001b[0;34m\u001b[0m\u001b[0m\n",
            "\u001b[0;32m/usr/local/lib/python3.7/dist-packages/google/api_core/future/polling.py\u001b[0m in \u001b[0;36m_blocking_poll\u001b[0;34m(self, timeout, retry)\u001b[0m\n\u001b[1;32m    106\u001b[0m         \u001b[0;32mtry\u001b[0m\u001b[0;34m:\u001b[0m\u001b[0;34m\u001b[0m\u001b[0;34m\u001b[0m\u001b[0m\n\u001b[1;32m    107\u001b[0m             \u001b[0mkwargs\u001b[0m \u001b[0;34m=\u001b[0m \u001b[0;34m{\u001b[0m\u001b[0;34m}\u001b[0m \u001b[0;32mif\u001b[0m \u001b[0mretry\u001b[0m \u001b[0;32mis\u001b[0m \u001b[0mDEFAULT_RETRY\u001b[0m \u001b[0;32melse\u001b[0m \u001b[0;34m{\u001b[0m\u001b[0;34m\"retry\"\u001b[0m\u001b[0;34m:\u001b[0m \u001b[0mretry\u001b[0m\u001b[0;34m}\u001b[0m\u001b[0;34m\u001b[0m\u001b[0;34m\u001b[0m\u001b[0m\n\u001b[0;32m--> 108\u001b[0;31m             \u001b[0mretry_\u001b[0m\u001b[0;34m(\u001b[0m\u001b[0mself\u001b[0m\u001b[0;34m.\u001b[0m\u001b[0m_done_or_raise\u001b[0m\u001b[0;34m)\u001b[0m\u001b[0;34m(\u001b[0m\u001b[0;34m**\u001b[0m\u001b[0mkwargs\u001b[0m\u001b[0;34m)\u001b[0m\u001b[0;34m\u001b[0m\u001b[0;34m\u001b[0m\u001b[0m\n\u001b[0m\u001b[1;32m    109\u001b[0m         \u001b[0;32mexcept\u001b[0m \u001b[0mexceptions\u001b[0m\u001b[0;34m.\u001b[0m\u001b[0mRetryError\u001b[0m\u001b[0;34m:\u001b[0m\u001b[0;34m\u001b[0m\u001b[0;34m\u001b[0m\u001b[0m\n\u001b[1;32m    110\u001b[0m             raise concurrent.futures.TimeoutError(\n",
            "\u001b[0;32m/usr/local/lib/python3.7/dist-packages/google/api_core/retry.py\u001b[0m in \u001b[0;36mretry_wrapped_func\u001b[0;34m(*args, **kwargs)\u001b[0m\n\u001b[1;32m    289\u001b[0m                 \u001b[0msleep_generator\u001b[0m\u001b[0;34m,\u001b[0m\u001b[0;34m\u001b[0m\u001b[0;34m\u001b[0m\u001b[0m\n\u001b[1;32m    290\u001b[0m                 \u001b[0mself\u001b[0m\u001b[0;34m.\u001b[0m\u001b[0m_deadline\u001b[0m\u001b[0;34m,\u001b[0m\u001b[0;34m\u001b[0m\u001b[0;34m\u001b[0m\u001b[0m\n\u001b[0;32m--> 291\u001b[0;31m                 \u001b[0mon_error\u001b[0m\u001b[0;34m=\u001b[0m\u001b[0mon_error\u001b[0m\u001b[0;34m,\u001b[0m\u001b[0;34m\u001b[0m\u001b[0;34m\u001b[0m\u001b[0m\n\u001b[0m\u001b[1;32m    292\u001b[0m             )\n\u001b[1;32m    293\u001b[0m \u001b[0;34m\u001b[0m\u001b[0m\n",
            "\u001b[0;32m/usr/local/lib/python3.7/dist-packages/google/api_core/retry.py\u001b[0m in \u001b[0;36mretry_target\u001b[0;34m(target, predicate, sleep_generator, deadline, on_error)\u001b[0m\n\u001b[1;32m    187\u001b[0m     \u001b[0;32mfor\u001b[0m \u001b[0msleep\u001b[0m \u001b[0;32min\u001b[0m \u001b[0msleep_generator\u001b[0m\u001b[0;34m:\u001b[0m\u001b[0;34m\u001b[0m\u001b[0;34m\u001b[0m\u001b[0m\n\u001b[1;32m    188\u001b[0m         \u001b[0;32mtry\u001b[0m\u001b[0;34m:\u001b[0m\u001b[0;34m\u001b[0m\u001b[0;34m\u001b[0m\u001b[0m\n\u001b[0;32m--> 189\u001b[0;31m             \u001b[0;32mreturn\u001b[0m \u001b[0mtarget\u001b[0m\u001b[0;34m(\u001b[0m\u001b[0;34m)\u001b[0m\u001b[0;34m\u001b[0m\u001b[0;34m\u001b[0m\u001b[0m\n\u001b[0m\u001b[1;32m    190\u001b[0m \u001b[0;34m\u001b[0m\u001b[0m\n\u001b[1;32m    191\u001b[0m         \u001b[0;31m# pylint: disable=broad-except\u001b[0m\u001b[0;34m\u001b[0m\u001b[0;34m\u001b[0m\u001b[0;34m\u001b[0m\u001b[0m\n",
            "\u001b[0;32m/usr/local/lib/python3.7/dist-packages/google/api_core/future/polling.py\u001b[0m in \u001b[0;36m_done_or_raise\u001b[0;34m(self, retry)\u001b[0m\n\u001b[1;32m     84\u001b[0m         \u001b[0mkwargs\u001b[0m \u001b[0;34m=\u001b[0m \u001b[0;34m{\u001b[0m\u001b[0;34m}\u001b[0m \u001b[0;32mif\u001b[0m \u001b[0mretry\u001b[0m \u001b[0;32mis\u001b[0m \u001b[0mDEFAULT_RETRY\u001b[0m \u001b[0;32melse\u001b[0m \u001b[0;34m{\u001b[0m\u001b[0;34m\"retry\"\u001b[0m\u001b[0;34m:\u001b[0m \u001b[0mretry\u001b[0m\u001b[0;34m}\u001b[0m\u001b[0;34m\u001b[0m\u001b[0;34m\u001b[0m\u001b[0m\n\u001b[1;32m     85\u001b[0m \u001b[0;34m\u001b[0m\u001b[0m\n\u001b[0;32m---> 86\u001b[0;31m         \u001b[0;32mif\u001b[0m \u001b[0;32mnot\u001b[0m \u001b[0mself\u001b[0m\u001b[0;34m.\u001b[0m\u001b[0mdone\u001b[0m\u001b[0;34m(\u001b[0m\u001b[0;34m**\u001b[0m\u001b[0mkwargs\u001b[0m\u001b[0;34m)\u001b[0m\u001b[0;34m:\u001b[0m\u001b[0;34m\u001b[0m\u001b[0;34m\u001b[0m\u001b[0m\n\u001b[0m\u001b[1;32m     87\u001b[0m             \u001b[0;32mraise\u001b[0m \u001b[0m_OperationNotComplete\u001b[0m\u001b[0;34m(\u001b[0m\u001b[0;34m)\u001b[0m\u001b[0;34m\u001b[0m\u001b[0;34m\u001b[0m\u001b[0m\n\u001b[1;32m     88\u001b[0m \u001b[0;34m\u001b[0m\u001b[0m\n",
            "\u001b[0;32m/usr/local/lib/python3.7/dist-packages/google/cloud/bigquery/job.py\u001b[0m in \u001b[0;36mdone\u001b[0;34m(self, retry)\u001b[0m\n\u001b[1;32m   2871\u001b[0m                 \u001b[0mproject\u001b[0m\u001b[0;34m=\u001b[0m\u001b[0mself\u001b[0m\u001b[0;34m.\u001b[0m\u001b[0mproject\u001b[0m\u001b[0;34m,\u001b[0m\u001b[0;34m\u001b[0m\u001b[0;34m\u001b[0m\u001b[0m\n\u001b[1;32m   2872\u001b[0m                 \u001b[0mtimeout_ms\u001b[0m\u001b[0;34m=\u001b[0m\u001b[0mtimeout_ms\u001b[0m\u001b[0;34m,\u001b[0m\u001b[0;34m\u001b[0m\u001b[0;34m\u001b[0m\u001b[0m\n\u001b[0;32m-> 2873\u001b[0;31m                 \u001b[0mlocation\u001b[0m\u001b[0;34m=\u001b[0m\u001b[0mself\u001b[0m\u001b[0;34m.\u001b[0m\u001b[0mlocation\u001b[0m\u001b[0;34m,\u001b[0m\u001b[0;34m\u001b[0m\u001b[0;34m\u001b[0m\u001b[0m\n\u001b[0m\u001b[1;32m   2874\u001b[0m             )\n\u001b[1;32m   2875\u001b[0m \u001b[0;34m\u001b[0m\u001b[0m\n",
            "\u001b[0;32m/usr/local/lib/python3.7/dist-packages/google/cloud/bigquery/client.py\u001b[0m in \u001b[0;36m_get_query_results\u001b[0;34m(self, job_id, retry, project, timeout_ms, location)\u001b[0m\n\u001b[1;32m   1100\u001b[0m         \u001b[0;31m# QueryJob.result()). So we don't need to poll here.\u001b[0m\u001b[0;34m\u001b[0m\u001b[0;34m\u001b[0m\u001b[0;34m\u001b[0m\u001b[0m\n\u001b[1;32m   1101\u001b[0m         resource = self._call_api(\n\u001b[0;32m-> 1102\u001b[0;31m             \u001b[0mretry\u001b[0m\u001b[0;34m,\u001b[0m \u001b[0mmethod\u001b[0m\u001b[0;34m=\u001b[0m\u001b[0;34m\"GET\"\u001b[0m\u001b[0;34m,\u001b[0m \u001b[0mpath\u001b[0m\u001b[0;34m=\u001b[0m\u001b[0mpath\u001b[0m\u001b[0;34m,\u001b[0m \u001b[0mquery_params\u001b[0m\u001b[0;34m=\u001b[0m\u001b[0mextra_params\u001b[0m\u001b[0;34m\u001b[0m\u001b[0;34m\u001b[0m\u001b[0m\n\u001b[0m\u001b[1;32m   1103\u001b[0m         )\n\u001b[1;32m   1104\u001b[0m         \u001b[0;32mreturn\u001b[0m \u001b[0m_QueryResults\u001b[0m\u001b[0;34m.\u001b[0m\u001b[0mfrom_api_repr\u001b[0m\u001b[0;34m(\u001b[0m\u001b[0mresource\u001b[0m\u001b[0;34m)\u001b[0m\u001b[0;34m\u001b[0m\u001b[0;34m\u001b[0m\u001b[0m\n",
            "\u001b[0;32m/usr/local/lib/python3.7/dist-packages/google/cloud/bigquery/client.py\u001b[0m in \u001b[0;36m_call_api\u001b[0;34m(self, retry, **kwargs)\u001b[0m\n\u001b[1;32m    474\u001b[0m         \u001b[0;32mif\u001b[0m \u001b[0mretry\u001b[0m\u001b[0;34m:\u001b[0m\u001b[0;34m\u001b[0m\u001b[0;34m\u001b[0m\u001b[0m\n\u001b[1;32m    475\u001b[0m             \u001b[0mcall\u001b[0m \u001b[0;34m=\u001b[0m \u001b[0mretry\u001b[0m\u001b[0;34m(\u001b[0m\u001b[0mcall\u001b[0m\u001b[0;34m)\u001b[0m\u001b[0;34m\u001b[0m\u001b[0;34m\u001b[0m\u001b[0m\n\u001b[0;32m--> 476\u001b[0;31m         \u001b[0;32mreturn\u001b[0m \u001b[0mcall\u001b[0m\u001b[0;34m(\u001b[0m\u001b[0;34m)\u001b[0m\u001b[0;34m\u001b[0m\u001b[0;34m\u001b[0m\u001b[0m\n\u001b[0m\u001b[1;32m    477\u001b[0m \u001b[0;34m\u001b[0m\u001b[0m\n\u001b[1;32m    478\u001b[0m     \u001b[0;32mdef\u001b[0m \u001b[0mget_dataset\u001b[0m\u001b[0;34m(\u001b[0m\u001b[0mself\u001b[0m\u001b[0;34m,\u001b[0m \u001b[0mdataset_ref\u001b[0m\u001b[0;34m,\u001b[0m \u001b[0mretry\u001b[0m\u001b[0;34m=\u001b[0m\u001b[0mDEFAULT_RETRY\u001b[0m\u001b[0;34m)\u001b[0m\u001b[0;34m:\u001b[0m\u001b[0;34m\u001b[0m\u001b[0;34m\u001b[0m\u001b[0m\n",
            "\u001b[0;32m/usr/local/lib/python3.7/dist-packages/google/api_core/retry.py\u001b[0m in \u001b[0;36mretry_wrapped_func\u001b[0;34m(*args, **kwargs)\u001b[0m\n\u001b[1;32m    289\u001b[0m                 \u001b[0msleep_generator\u001b[0m\u001b[0;34m,\u001b[0m\u001b[0;34m\u001b[0m\u001b[0;34m\u001b[0m\u001b[0m\n\u001b[1;32m    290\u001b[0m                 \u001b[0mself\u001b[0m\u001b[0;34m.\u001b[0m\u001b[0m_deadline\u001b[0m\u001b[0;34m,\u001b[0m\u001b[0;34m\u001b[0m\u001b[0;34m\u001b[0m\u001b[0m\n\u001b[0;32m--> 291\u001b[0;31m                 \u001b[0mon_error\u001b[0m\u001b[0;34m=\u001b[0m\u001b[0mon_error\u001b[0m\u001b[0;34m,\u001b[0m\u001b[0;34m\u001b[0m\u001b[0;34m\u001b[0m\u001b[0m\n\u001b[0m\u001b[1;32m    292\u001b[0m             )\n\u001b[1;32m    293\u001b[0m \u001b[0;34m\u001b[0m\u001b[0m\n",
            "\u001b[0;32m/usr/local/lib/python3.7/dist-packages/google/api_core/retry.py\u001b[0m in \u001b[0;36mretry_target\u001b[0;34m(target, predicate, sleep_generator, deadline, on_error)\u001b[0m\n\u001b[1;32m    187\u001b[0m     \u001b[0;32mfor\u001b[0m \u001b[0msleep\u001b[0m \u001b[0;32min\u001b[0m \u001b[0msleep_generator\u001b[0m\u001b[0;34m:\u001b[0m\u001b[0;34m\u001b[0m\u001b[0;34m\u001b[0m\u001b[0m\n\u001b[1;32m    188\u001b[0m         \u001b[0;32mtry\u001b[0m\u001b[0;34m:\u001b[0m\u001b[0;34m\u001b[0m\u001b[0;34m\u001b[0m\u001b[0m\n\u001b[0;32m--> 189\u001b[0;31m             \u001b[0;32mreturn\u001b[0m \u001b[0mtarget\u001b[0m\u001b[0;34m(\u001b[0m\u001b[0;34m)\u001b[0m\u001b[0;34m\u001b[0m\u001b[0;34m\u001b[0m\u001b[0m\n\u001b[0m\u001b[1;32m    190\u001b[0m \u001b[0;34m\u001b[0m\u001b[0m\n\u001b[1;32m    191\u001b[0m         \u001b[0;31m# pylint: disable=broad-except\u001b[0m\u001b[0;34m\u001b[0m\u001b[0;34m\u001b[0m\u001b[0;34m\u001b[0m\u001b[0m\n",
            "\u001b[0;32m/usr/local/lib/python3.7/dist-packages/google/cloud/_http.py\u001b[0m in \u001b[0;36mapi_request\u001b[0;34m(self, method, path, query_params, data, content_type, headers, api_base_url, api_version, expect_json, _target_object)\u001b[0m\n\u001b[1;32m    387\u001b[0m             \u001b[0mcontent_type\u001b[0m\u001b[0;34m=\u001b[0m\u001b[0mcontent_type\u001b[0m\u001b[0;34m,\u001b[0m\u001b[0;34m\u001b[0m\u001b[0;34m\u001b[0m\u001b[0m\n\u001b[1;32m    388\u001b[0m             \u001b[0mheaders\u001b[0m\u001b[0;34m=\u001b[0m\u001b[0mheaders\u001b[0m\u001b[0;34m,\u001b[0m\u001b[0;34m\u001b[0m\u001b[0;34m\u001b[0m\u001b[0m\n\u001b[0;32m--> 389\u001b[0;31m             \u001b[0mtarget_object\u001b[0m\u001b[0;34m=\u001b[0m\u001b[0m_target_object\u001b[0m\u001b[0;34m,\u001b[0m\u001b[0;34m\u001b[0m\u001b[0;34m\u001b[0m\u001b[0m\n\u001b[0m\u001b[1;32m    390\u001b[0m         )\n\u001b[1;32m    391\u001b[0m \u001b[0;34m\u001b[0m\u001b[0m\n",
            "\u001b[0;32m/usr/local/lib/python3.7/dist-packages/google/cloud/_http.py\u001b[0m in \u001b[0;36m_make_request\u001b[0;34m(self, method, url, data, content_type, headers, target_object)\u001b[0m\n\u001b[1;32m    264\u001b[0m         \u001b[0mheaders\u001b[0m\u001b[0;34m[\u001b[0m\u001b[0;34m\"User-Agent\"\u001b[0m\u001b[0;34m]\u001b[0m \u001b[0;34m=\u001b[0m \u001b[0mself\u001b[0m\u001b[0;34m.\u001b[0m\u001b[0muser_agent\u001b[0m\u001b[0;34m\u001b[0m\u001b[0;34m\u001b[0m\u001b[0m\n\u001b[1;32m    265\u001b[0m \u001b[0;34m\u001b[0m\u001b[0m\n\u001b[0;32m--> 266\u001b[0;31m         \u001b[0;32mreturn\u001b[0m \u001b[0mself\u001b[0m\u001b[0;34m.\u001b[0m\u001b[0m_do_request\u001b[0m\u001b[0;34m(\u001b[0m\u001b[0mmethod\u001b[0m\u001b[0;34m,\u001b[0m \u001b[0murl\u001b[0m\u001b[0;34m,\u001b[0m \u001b[0mheaders\u001b[0m\u001b[0;34m,\u001b[0m \u001b[0mdata\u001b[0m\u001b[0;34m,\u001b[0m \u001b[0mtarget_object\u001b[0m\u001b[0;34m)\u001b[0m\u001b[0;34m\u001b[0m\u001b[0;34m\u001b[0m\u001b[0m\n\u001b[0m\u001b[1;32m    267\u001b[0m \u001b[0;34m\u001b[0m\u001b[0m\n\u001b[1;32m    268\u001b[0m     def _do_request(\n",
            "\u001b[0;32m/usr/local/lib/python3.7/dist-packages/google/cloud/_http.py\u001b[0m in \u001b[0;36m_do_request\u001b[0;34m(self, method, url, headers, data, target_object)\u001b[0m\n\u001b[1;32m    293\u001b[0m         \u001b[0;34m:\u001b[0m\u001b[0mreturns\u001b[0m\u001b[0;34m:\u001b[0m \u001b[0mThe\u001b[0m \u001b[0mHTTP\u001b[0m \u001b[0mresponse\u001b[0m\u001b[0;34m.\u001b[0m\u001b[0;34m\u001b[0m\u001b[0;34m\u001b[0m\u001b[0m\n\u001b[1;32m    294\u001b[0m         \"\"\"\n\u001b[0;32m--> 295\u001b[0;31m         \u001b[0;32mreturn\u001b[0m \u001b[0mself\u001b[0m\u001b[0;34m.\u001b[0m\u001b[0mhttp\u001b[0m\u001b[0;34m.\u001b[0m\u001b[0mrequest\u001b[0m\u001b[0;34m(\u001b[0m\u001b[0murl\u001b[0m\u001b[0;34m=\u001b[0m\u001b[0murl\u001b[0m\u001b[0;34m,\u001b[0m \u001b[0mmethod\u001b[0m\u001b[0;34m=\u001b[0m\u001b[0mmethod\u001b[0m\u001b[0;34m,\u001b[0m \u001b[0mheaders\u001b[0m\u001b[0;34m=\u001b[0m\u001b[0mheaders\u001b[0m\u001b[0;34m,\u001b[0m \u001b[0mdata\u001b[0m\u001b[0;34m=\u001b[0m\u001b[0mdata\u001b[0m\u001b[0;34m)\u001b[0m\u001b[0;34m\u001b[0m\u001b[0;34m\u001b[0m\u001b[0m\n\u001b[0m\u001b[1;32m    296\u001b[0m \u001b[0;34m\u001b[0m\u001b[0m\n\u001b[1;32m    297\u001b[0m     def api_request(\n",
            "\u001b[0;32m/usr/local/lib/python3.7/dist-packages/google/auth/transport/requests.py\u001b[0m in \u001b[0;36mrequest\u001b[0;34m(self, method, url, data, headers, max_allowed_time, timeout, **kwargs)\u001b[0m\n\u001b[1;32m    484\u001b[0m                 \u001b[0mheaders\u001b[0m\u001b[0;34m=\u001b[0m\u001b[0mrequest_headers\u001b[0m\u001b[0;34m,\u001b[0m\u001b[0;34m\u001b[0m\u001b[0;34m\u001b[0m\u001b[0m\n\u001b[1;32m    485\u001b[0m                 \u001b[0mtimeout\u001b[0m\u001b[0;34m=\u001b[0m\u001b[0mtimeout\u001b[0m\u001b[0;34m,\u001b[0m\u001b[0;34m\u001b[0m\u001b[0;34m\u001b[0m\u001b[0m\n\u001b[0;32m--> 486\u001b[0;31m                 \u001b[0;34m**\u001b[0m\u001b[0mkwargs\u001b[0m\u001b[0;34m\u001b[0m\u001b[0;34m\u001b[0m\u001b[0m\n\u001b[0m\u001b[1;32m    487\u001b[0m             )\n\u001b[1;32m    488\u001b[0m         \u001b[0mremaining_time\u001b[0m \u001b[0;34m=\u001b[0m \u001b[0mguard\u001b[0m\u001b[0;34m.\u001b[0m\u001b[0mremaining_timeout\u001b[0m\u001b[0;34m\u001b[0m\u001b[0;34m\u001b[0m\u001b[0m\n",
            "\u001b[0;32m/usr/local/lib/python3.7/dist-packages/requests/sessions.py\u001b[0m in \u001b[0;36mrequest\u001b[0;34m(self, method, url, params, data, headers, cookies, files, auth, timeout, allow_redirects, proxies, hooks, stream, verify, cert, json)\u001b[0m\n\u001b[1;32m    528\u001b[0m         }\n\u001b[1;32m    529\u001b[0m         \u001b[0msend_kwargs\u001b[0m\u001b[0;34m.\u001b[0m\u001b[0mupdate\u001b[0m\u001b[0;34m(\u001b[0m\u001b[0msettings\u001b[0m\u001b[0;34m)\u001b[0m\u001b[0;34m\u001b[0m\u001b[0;34m\u001b[0m\u001b[0m\n\u001b[0;32m--> 530\u001b[0;31m         \u001b[0mresp\u001b[0m \u001b[0;34m=\u001b[0m \u001b[0mself\u001b[0m\u001b[0;34m.\u001b[0m\u001b[0msend\u001b[0m\u001b[0;34m(\u001b[0m\u001b[0mprep\u001b[0m\u001b[0;34m,\u001b[0m \u001b[0;34m**\u001b[0m\u001b[0msend_kwargs\u001b[0m\u001b[0;34m)\u001b[0m\u001b[0;34m\u001b[0m\u001b[0;34m\u001b[0m\u001b[0m\n\u001b[0m\u001b[1;32m    531\u001b[0m \u001b[0;34m\u001b[0m\u001b[0m\n\u001b[1;32m    532\u001b[0m         \u001b[0;32mreturn\u001b[0m \u001b[0mresp\u001b[0m\u001b[0;34m\u001b[0m\u001b[0;34m\u001b[0m\u001b[0m\n",
            "\u001b[0;32m/usr/local/lib/python3.7/dist-packages/requests/sessions.py\u001b[0m in \u001b[0;36msend\u001b[0;34m(self, request, **kwargs)\u001b[0m\n\u001b[1;32m    641\u001b[0m \u001b[0;34m\u001b[0m\u001b[0m\n\u001b[1;32m    642\u001b[0m         \u001b[0;31m# Send the request\u001b[0m\u001b[0;34m\u001b[0m\u001b[0;34m\u001b[0m\u001b[0;34m\u001b[0m\u001b[0m\n\u001b[0;32m--> 643\u001b[0;31m         \u001b[0mr\u001b[0m \u001b[0;34m=\u001b[0m \u001b[0madapter\u001b[0m\u001b[0;34m.\u001b[0m\u001b[0msend\u001b[0m\u001b[0;34m(\u001b[0m\u001b[0mrequest\u001b[0m\u001b[0;34m,\u001b[0m \u001b[0;34m**\u001b[0m\u001b[0mkwargs\u001b[0m\u001b[0;34m)\u001b[0m\u001b[0;34m\u001b[0m\u001b[0;34m\u001b[0m\u001b[0m\n\u001b[0m\u001b[1;32m    644\u001b[0m \u001b[0;34m\u001b[0m\u001b[0m\n\u001b[1;32m    645\u001b[0m         \u001b[0;31m# Total elapsed time of the request (approximately)\u001b[0m\u001b[0;34m\u001b[0m\u001b[0;34m\u001b[0m\u001b[0;34m\u001b[0m\u001b[0m\n",
            "\u001b[0;32m/usr/local/lib/python3.7/dist-packages/requests/adapters.py\u001b[0m in \u001b[0;36msend\u001b[0;34m(self, request, stream, timeout, verify, cert, proxies)\u001b[0m\n\u001b[1;32m    447\u001b[0m                     \u001b[0mdecode_content\u001b[0m\u001b[0;34m=\u001b[0m\u001b[0;32mFalse\u001b[0m\u001b[0;34m,\u001b[0m\u001b[0;34m\u001b[0m\u001b[0;34m\u001b[0m\u001b[0m\n\u001b[1;32m    448\u001b[0m                     \u001b[0mretries\u001b[0m\u001b[0;34m=\u001b[0m\u001b[0mself\u001b[0m\u001b[0;34m.\u001b[0m\u001b[0mmax_retries\u001b[0m\u001b[0;34m,\u001b[0m\u001b[0;34m\u001b[0m\u001b[0;34m\u001b[0m\u001b[0m\n\u001b[0;32m--> 449\u001b[0;31m                     \u001b[0mtimeout\u001b[0m\u001b[0;34m=\u001b[0m\u001b[0mtimeout\u001b[0m\u001b[0;34m\u001b[0m\u001b[0;34m\u001b[0m\u001b[0m\n\u001b[0m\u001b[1;32m    450\u001b[0m                 )\n\u001b[1;32m    451\u001b[0m \u001b[0;34m\u001b[0m\u001b[0m\n",
            "\u001b[0;32m/usr/local/lib/python3.7/dist-packages/urllib3/connectionpool.py\u001b[0m in \u001b[0;36murlopen\u001b[0;34m(self, method, url, body, headers, retries, redirect, assert_same_host, timeout, pool_timeout, release_conn, chunked, body_pos, **response_kw)\u001b[0m\n\u001b[1;32m    598\u001b[0m                                                   \u001b[0mtimeout\u001b[0m\u001b[0;34m=\u001b[0m\u001b[0mtimeout_obj\u001b[0m\u001b[0;34m,\u001b[0m\u001b[0;34m\u001b[0m\u001b[0;34m\u001b[0m\u001b[0m\n\u001b[1;32m    599\u001b[0m                                                   \u001b[0mbody\u001b[0m\u001b[0;34m=\u001b[0m\u001b[0mbody\u001b[0m\u001b[0;34m,\u001b[0m \u001b[0mheaders\u001b[0m\u001b[0;34m=\u001b[0m\u001b[0mheaders\u001b[0m\u001b[0;34m,\u001b[0m\u001b[0;34m\u001b[0m\u001b[0;34m\u001b[0m\u001b[0m\n\u001b[0;32m--> 600\u001b[0;31m                                                   chunked=chunked)\n\u001b[0m\u001b[1;32m    601\u001b[0m \u001b[0;34m\u001b[0m\u001b[0m\n\u001b[1;32m    602\u001b[0m             \u001b[0;31m# If we're going to release the connection in ``finally:``, then\u001b[0m\u001b[0;34m\u001b[0m\u001b[0;34m\u001b[0m\u001b[0;34m\u001b[0m\u001b[0m\n",
            "\u001b[0;32m/usr/local/lib/python3.7/dist-packages/urllib3/connectionpool.py\u001b[0m in \u001b[0;36m_make_request\u001b[0;34m(self, conn, method, url, timeout, chunked, **httplib_request_kw)\u001b[0m\n\u001b[1;32m    378\u001b[0m             \u001b[0;32mexcept\u001b[0m \u001b[0mTypeError\u001b[0m\u001b[0;34m:\u001b[0m  \u001b[0;31m# Python 3\u001b[0m\u001b[0;34m\u001b[0m\u001b[0;34m\u001b[0m\u001b[0m\n\u001b[1;32m    379\u001b[0m                 \u001b[0;32mtry\u001b[0m\u001b[0;34m:\u001b[0m\u001b[0;34m\u001b[0m\u001b[0;34m\u001b[0m\u001b[0m\n\u001b[0;32m--> 380\u001b[0;31m                     \u001b[0mhttplib_response\u001b[0m \u001b[0;34m=\u001b[0m \u001b[0mconn\u001b[0m\u001b[0;34m.\u001b[0m\u001b[0mgetresponse\u001b[0m\u001b[0;34m(\u001b[0m\u001b[0;34m)\u001b[0m\u001b[0;34m\u001b[0m\u001b[0;34m\u001b[0m\u001b[0m\n\u001b[0m\u001b[1;32m    381\u001b[0m                 \u001b[0;32mexcept\u001b[0m \u001b[0mException\u001b[0m \u001b[0;32mas\u001b[0m \u001b[0me\u001b[0m\u001b[0;34m:\u001b[0m\u001b[0;34m\u001b[0m\u001b[0;34m\u001b[0m\u001b[0m\n\u001b[1;32m    382\u001b[0m                     \u001b[0;31m# Remove the TypeError from the exception chain in Python 3;\u001b[0m\u001b[0;34m\u001b[0m\u001b[0;34m\u001b[0m\u001b[0;34m\u001b[0m\u001b[0m\n",
            "\u001b[0;32m/usr/lib/python3.7/http/client.py\u001b[0m in \u001b[0;36mgetresponse\u001b[0;34m(self)\u001b[0m\n\u001b[1;32m   1371\u001b[0m         \u001b[0;32mtry\u001b[0m\u001b[0;34m:\u001b[0m\u001b[0;34m\u001b[0m\u001b[0;34m\u001b[0m\u001b[0m\n\u001b[1;32m   1372\u001b[0m             \u001b[0;32mtry\u001b[0m\u001b[0;34m:\u001b[0m\u001b[0;34m\u001b[0m\u001b[0;34m\u001b[0m\u001b[0m\n\u001b[0;32m-> 1373\u001b[0;31m                 \u001b[0mresponse\u001b[0m\u001b[0;34m.\u001b[0m\u001b[0mbegin\u001b[0m\u001b[0;34m(\u001b[0m\u001b[0;34m)\u001b[0m\u001b[0;34m\u001b[0m\u001b[0;34m\u001b[0m\u001b[0m\n\u001b[0m\u001b[1;32m   1374\u001b[0m             \u001b[0;32mexcept\u001b[0m \u001b[0mConnectionError\u001b[0m\u001b[0;34m:\u001b[0m\u001b[0;34m\u001b[0m\u001b[0;34m\u001b[0m\u001b[0m\n\u001b[1;32m   1375\u001b[0m                 \u001b[0mself\u001b[0m\u001b[0;34m.\u001b[0m\u001b[0mclose\u001b[0m\u001b[0;34m(\u001b[0m\u001b[0;34m)\u001b[0m\u001b[0;34m\u001b[0m\u001b[0;34m\u001b[0m\u001b[0m\n",
            "\u001b[0;32m/usr/lib/python3.7/http/client.py\u001b[0m in \u001b[0;36mbegin\u001b[0;34m(self)\u001b[0m\n\u001b[1;32m    317\u001b[0m         \u001b[0;31m# read until we get a non-100 response\u001b[0m\u001b[0;34m\u001b[0m\u001b[0;34m\u001b[0m\u001b[0;34m\u001b[0m\u001b[0m\n\u001b[1;32m    318\u001b[0m         \u001b[0;32mwhile\u001b[0m \u001b[0;32mTrue\u001b[0m\u001b[0;34m:\u001b[0m\u001b[0;34m\u001b[0m\u001b[0;34m\u001b[0m\u001b[0m\n\u001b[0;32m--> 319\u001b[0;31m             \u001b[0mversion\u001b[0m\u001b[0;34m,\u001b[0m \u001b[0mstatus\u001b[0m\u001b[0;34m,\u001b[0m \u001b[0mreason\u001b[0m \u001b[0;34m=\u001b[0m \u001b[0mself\u001b[0m\u001b[0;34m.\u001b[0m\u001b[0m_read_status\u001b[0m\u001b[0;34m(\u001b[0m\u001b[0;34m)\u001b[0m\u001b[0;34m\u001b[0m\u001b[0;34m\u001b[0m\u001b[0m\n\u001b[0m\u001b[1;32m    320\u001b[0m             \u001b[0;32mif\u001b[0m \u001b[0mstatus\u001b[0m \u001b[0;34m!=\u001b[0m \u001b[0mCONTINUE\u001b[0m\u001b[0;34m:\u001b[0m\u001b[0;34m\u001b[0m\u001b[0;34m\u001b[0m\u001b[0m\n\u001b[1;32m    321\u001b[0m                 \u001b[0;32mbreak\u001b[0m\u001b[0;34m\u001b[0m\u001b[0;34m\u001b[0m\u001b[0m\n",
            "\u001b[0;32m/usr/lib/python3.7/http/client.py\u001b[0m in \u001b[0;36m_read_status\u001b[0;34m(self)\u001b[0m\n\u001b[1;32m    278\u001b[0m \u001b[0;34m\u001b[0m\u001b[0m\n\u001b[1;32m    279\u001b[0m     \u001b[0;32mdef\u001b[0m \u001b[0m_read_status\u001b[0m\u001b[0;34m(\u001b[0m\u001b[0mself\u001b[0m\u001b[0;34m)\u001b[0m\u001b[0;34m:\u001b[0m\u001b[0;34m\u001b[0m\u001b[0;34m\u001b[0m\u001b[0m\n\u001b[0;32m--> 280\u001b[0;31m         \u001b[0mline\u001b[0m \u001b[0;34m=\u001b[0m \u001b[0mstr\u001b[0m\u001b[0;34m(\u001b[0m\u001b[0mself\u001b[0m\u001b[0;34m.\u001b[0m\u001b[0mfp\u001b[0m\u001b[0;34m.\u001b[0m\u001b[0mreadline\u001b[0m\u001b[0;34m(\u001b[0m\u001b[0m_MAXLINE\u001b[0m \u001b[0;34m+\u001b[0m \u001b[0;36m1\u001b[0m\u001b[0;34m)\u001b[0m\u001b[0;34m,\u001b[0m \u001b[0;34m\"iso-8859-1\"\u001b[0m\u001b[0;34m)\u001b[0m\u001b[0;34m\u001b[0m\u001b[0;34m\u001b[0m\u001b[0m\n\u001b[0m\u001b[1;32m    281\u001b[0m         \u001b[0;32mif\u001b[0m \u001b[0mlen\u001b[0m\u001b[0;34m(\u001b[0m\u001b[0mline\u001b[0m\u001b[0;34m)\u001b[0m \u001b[0;34m>\u001b[0m \u001b[0m_MAXLINE\u001b[0m\u001b[0;34m:\u001b[0m\u001b[0;34m\u001b[0m\u001b[0;34m\u001b[0m\u001b[0m\n\u001b[1;32m    282\u001b[0m             \u001b[0;32mraise\u001b[0m \u001b[0mLineTooLong\u001b[0m\u001b[0;34m(\u001b[0m\u001b[0;34m\"status line\"\u001b[0m\u001b[0;34m)\u001b[0m\u001b[0;34m\u001b[0m\u001b[0;34m\u001b[0m\u001b[0m\n",
            "\u001b[0;32m/usr/lib/python3.7/socket.py\u001b[0m in \u001b[0;36mreadinto\u001b[0;34m(self, b)\u001b[0m\n\u001b[1;32m    587\u001b[0m         \u001b[0;32mwhile\u001b[0m \u001b[0;32mTrue\u001b[0m\u001b[0;34m:\u001b[0m\u001b[0;34m\u001b[0m\u001b[0;34m\u001b[0m\u001b[0m\n\u001b[1;32m    588\u001b[0m             \u001b[0;32mtry\u001b[0m\u001b[0;34m:\u001b[0m\u001b[0;34m\u001b[0m\u001b[0;34m\u001b[0m\u001b[0m\n\u001b[0;32m--> 589\u001b[0;31m                 \u001b[0;32mreturn\u001b[0m \u001b[0mself\u001b[0m\u001b[0;34m.\u001b[0m\u001b[0m_sock\u001b[0m\u001b[0;34m.\u001b[0m\u001b[0mrecv_into\u001b[0m\u001b[0;34m(\u001b[0m\u001b[0mb\u001b[0m\u001b[0;34m)\u001b[0m\u001b[0;34m\u001b[0m\u001b[0;34m\u001b[0m\u001b[0m\n\u001b[0m\u001b[1;32m    590\u001b[0m             \u001b[0;32mexcept\u001b[0m \u001b[0mtimeout\u001b[0m\u001b[0;34m:\u001b[0m\u001b[0;34m\u001b[0m\u001b[0;34m\u001b[0m\u001b[0m\n\u001b[1;32m    591\u001b[0m                 \u001b[0mself\u001b[0m\u001b[0;34m.\u001b[0m\u001b[0m_timeout_occurred\u001b[0m \u001b[0;34m=\u001b[0m \u001b[0;32mTrue\u001b[0m\u001b[0;34m\u001b[0m\u001b[0;34m\u001b[0m\u001b[0m\n",
            "\u001b[0;32m/usr/lib/python3.7/ssl.py\u001b[0m in \u001b[0;36mrecv_into\u001b[0;34m(self, buffer, nbytes, flags)\u001b[0m\n\u001b[1;32m   1069\u001b[0m                   \u001b[0;34m\"non-zero flags not allowed in calls to recv_into() on %s\"\u001b[0m \u001b[0;34m%\u001b[0m\u001b[0;34m\u001b[0m\u001b[0;34m\u001b[0m\u001b[0m\n\u001b[1;32m   1070\u001b[0m                   self.__class__)\n\u001b[0;32m-> 1071\u001b[0;31m             \u001b[0;32mreturn\u001b[0m \u001b[0mself\u001b[0m\u001b[0;34m.\u001b[0m\u001b[0mread\u001b[0m\u001b[0;34m(\u001b[0m\u001b[0mnbytes\u001b[0m\u001b[0;34m,\u001b[0m \u001b[0mbuffer\u001b[0m\u001b[0;34m)\u001b[0m\u001b[0;34m\u001b[0m\u001b[0;34m\u001b[0m\u001b[0m\n\u001b[0m\u001b[1;32m   1072\u001b[0m         \u001b[0;32melse\u001b[0m\u001b[0;34m:\u001b[0m\u001b[0;34m\u001b[0m\u001b[0;34m\u001b[0m\u001b[0m\n\u001b[1;32m   1073\u001b[0m             \u001b[0;32mreturn\u001b[0m \u001b[0msuper\u001b[0m\u001b[0;34m(\u001b[0m\u001b[0;34m)\u001b[0m\u001b[0;34m.\u001b[0m\u001b[0mrecv_into\u001b[0m\u001b[0;34m(\u001b[0m\u001b[0mbuffer\u001b[0m\u001b[0;34m,\u001b[0m \u001b[0mnbytes\u001b[0m\u001b[0;34m,\u001b[0m \u001b[0mflags\u001b[0m\u001b[0;34m)\u001b[0m\u001b[0;34m\u001b[0m\u001b[0;34m\u001b[0m\u001b[0m\n",
            "\u001b[0;32m/usr/lib/python3.7/ssl.py\u001b[0m in \u001b[0;36mread\u001b[0;34m(self, len, buffer)\u001b[0m\n\u001b[1;32m    927\u001b[0m         \u001b[0;32mtry\u001b[0m\u001b[0;34m:\u001b[0m\u001b[0;34m\u001b[0m\u001b[0;34m\u001b[0m\u001b[0m\n\u001b[1;32m    928\u001b[0m             \u001b[0;32mif\u001b[0m \u001b[0mbuffer\u001b[0m \u001b[0;32mis\u001b[0m \u001b[0;32mnot\u001b[0m \u001b[0;32mNone\u001b[0m\u001b[0;34m:\u001b[0m\u001b[0;34m\u001b[0m\u001b[0;34m\u001b[0m\u001b[0m\n\u001b[0;32m--> 929\u001b[0;31m                 \u001b[0;32mreturn\u001b[0m \u001b[0mself\u001b[0m\u001b[0;34m.\u001b[0m\u001b[0m_sslobj\u001b[0m\u001b[0;34m.\u001b[0m\u001b[0mread\u001b[0m\u001b[0;34m(\u001b[0m\u001b[0mlen\u001b[0m\u001b[0;34m,\u001b[0m \u001b[0mbuffer\u001b[0m\u001b[0;34m)\u001b[0m\u001b[0;34m\u001b[0m\u001b[0;34m\u001b[0m\u001b[0m\n\u001b[0m\u001b[1;32m    930\u001b[0m             \u001b[0;32melse\u001b[0m\u001b[0;34m:\u001b[0m\u001b[0;34m\u001b[0m\u001b[0;34m\u001b[0m\u001b[0m\n\u001b[1;32m    931\u001b[0m                 \u001b[0;32mreturn\u001b[0m \u001b[0mself\u001b[0m\u001b[0;34m.\u001b[0m\u001b[0m_sslobj\u001b[0m\u001b[0;34m.\u001b[0m\u001b[0mread\u001b[0m\u001b[0;34m(\u001b[0m\u001b[0mlen\u001b[0m\u001b[0;34m)\u001b[0m\u001b[0;34m\u001b[0m\u001b[0;34m\u001b[0m\u001b[0m\n",
            "\u001b[0;31mKeyboardInterrupt\u001b[0m: "
          ]
        }
      ]
    },
    {
      "cell_type": "code",
      "source": [
        "def find_num_dstnct_patent_cpc_in_years(start_year, end_year):\n",
        "    \n",
        "    start_date = r'{}-01-01'.format(start_year)\n",
        "    end_date = r'{}-12-31'.format(end_year)\n",
        "    \n",
        "    query = r\"\"\"\n",
        "                 SELECT COUNT(CPCCode) AS dstnct_patent_cpc\n",
        "                 FROM(\n",
        "                 SELECT DISTINCT t1.id AS PatentID, t2.group_id AS CPCCode\n",
        "                 FROM `patents-public-data.patentsview.patent` t1,\n",
        "                 `patents-public-data.patentsview.cpc_current` t2 where t1.id = t2.patent_id\n",
        "                 and t1.type='utility'\n",
        "                 and timestamp(t1.date) >= timestamp('{}') and timestamp(t1.date) <= timestamp('{}')\n",
        "                 )\"\"\".format(start_date, end_date)\n",
        "    \n",
        "    df = bq_client.query(query).to_dataframe()\n",
        "    return df['dstnct_patent_cpc'][0]"
      ],
      "metadata": {
        "execution": {
          "iopub.status.busy": "2022-10-01T13:54:34.508736Z",
          "iopub.execute_input": "2022-10-01T13:54:34.509366Z",
          "iopub.status.idle": "2022-10-01T13:54:34.515154Z",
          "shell.execute_reply.started": "2022-10-01T13:54:34.509331Z",
          "shell.execute_reply": "2022-10-01T13:54:34.514152Z"
        },
        "trusted": true,
        "id": "ZbuxAfhqC0_M"
      },
      "execution_count": 19,
      "outputs": []
    },
    {
      "cell_type": "code",
      "source": [
        "m = find_num_dstnct_patent_cpc_in_years(2001, 2018)\n",
        "m"
      ],
      "metadata": {
        "execution": {
          "iopub.status.busy": "2022-10-01T13:54:34.517384Z",
          "iopub.execute_input": "2022-10-01T13:54:34.517680Z",
          "iopub.status.idle": "2022-10-01T13:54:35.726077Z",
          "shell.execute_reply.started": "2022-10-01T13:54:34.517646Z",
          "shell.execute_reply": "2022-10-01T13:54:35.724876Z"
        },
        "trusted": true,
        "id": "Gg6Pjl-CC0_N",
        "outputId": "26844f27-4bb0-4705-ae2b-70efd9f5a3e1",
        "colab": {
          "base_uri": "https://localhost:8080/"
        }
      },
      "execution_count": 20,
      "outputs": [
        {
          "output_type": "execute_result",
          "data": {
            "text/plain": [
              "7970125"
            ]
          },
          "metadata": {},
          "execution_count": 20
        }
      ]
    },
    {
      "cell_type": "code",
      "source": [
        "def find_num_patents_in_years(start_year, end_year):\n",
        "    \n",
        "    start_date = r'{}-01-01'.format(start_year)\n",
        "    end_date = r'{}-12-31'.format(end_year)\n",
        "    \n",
        "    query = r\"\"\" SELECT COUNT(PatentID) AS total_num_patents\n",
        "                 FROM(\n",
        "                 SELECT DISTINCT t1.id as PatentID\n",
        "                 FROM `patents-public-data.patentsview.patent` t1\n",
        "                 where t1.type='utility'\n",
        "                 and timestamp(t1.date) >= timestamp('{}') and timestamp(t1.date) <= timestamp('{}')\n",
        "                 )\"\"\".format(start_date, end_date)\n",
        "    \n",
        "    df = bq_client.query(query).to_dataframe()\n",
        "    return df['total_num_patents'][0]"
      ],
      "metadata": {
        "execution": {
          "iopub.status.busy": "2022-10-01T13:54:35.727448Z",
          "iopub.execute_input": "2022-10-01T13:54:35.727926Z",
          "iopub.status.idle": "2022-10-01T13:54:35.734317Z",
          "shell.execute_reply.started": "2022-10-01T13:54:35.727879Z",
          "shell.execute_reply": "2022-10-01T13:54:35.733193Z"
        },
        "trusted": true,
        "id": "bSz29CbuC0_N"
      },
      "execution_count": null,
      "outputs": []
    },
    {
      "cell_type": "code",
      "source": [
        "n = find_num_patents_in_years(2003, 2003)\n",
        "n"
      ],
      "metadata": {
        "execution": {
          "iopub.status.busy": "2022-10-01T13:54:35.736185Z",
          "iopub.execute_input": "2022-10-01T13:54:35.736552Z",
          "iopub.status.idle": "2022-10-01T13:54:36.698996Z",
          "shell.execute_reply.started": "2022-10-01T13:54:35.736509Z",
          "shell.execute_reply": "2022-10-01T13:54:36.697866Z"
        },
        "trusted": true,
        "id": "XEVh7katC0_N",
        "outputId": "2461e138-8522-48ba-cf31-228e12beeb1d"
      },
      "execution_count": null,
      "outputs": [
        {
          "execution_count": 11,
          "output_type": "execute_result",
          "data": {
            "text/plain": "169077"
          },
          "metadata": {}
        }
      ]
    },
    {
      "cell_type": "code",
      "source": [
        "plt.plot(cpc_code_number_df.index, cpc_code_number_df['num_patents'])\n",
        "plt.xlabel('CPC Code Index')\n",
        "plt.ylabel('Number of Patents')\n",
        "\n",
        "print(\"Total number of patents: \", cpc_code_number_df['num_patents'].sum())\n",
        "CFG.TRAIN_NUM_PATENTS = cpc_code_number_df['num_patents'].sum()"
      ],
      "metadata": {
        "execution": {
          "iopub.status.busy": "2022-10-01T13:54:36.700326Z",
          "iopub.execute_input": "2022-10-01T13:54:36.701047Z",
          "iopub.status.idle": "2022-10-01T13:54:36.932457Z",
          "shell.execute_reply.started": "2022-10-01T13:54:36.701007Z",
          "shell.execute_reply": "2022-10-01T13:54:36.931502Z"
        },
        "trusted": true,
        "id": "DPSq2yTTC0_O",
        "outputId": "d8c03b5c-8889-4479-d4d7-5eaf64c3bc51"
      },
      "execution_count": null,
      "outputs": [
        {
          "name": "stdout",
          "text": "Total number of patents:  7970118\n",
          "output_type": "stream"
        },
        {
          "output_type": "display_data",
          "data": {
            "text/plain": "<Figure size 432x288 with 1 Axes>",
            "image/png": "[encoded data removed]"
          },
          "metadata": {
            "needs_background": "light"
          }
        }
      ]
    },
    {
      "cell_type": "code",
      "source": [
        "CFG.TRAIN_NUM_PATENTS"
      ],
      "metadata": {
        "execution": {
          "iopub.status.busy": "2022-10-01T13:54:36.934195Z",
          "iopub.execute_input": "2022-10-01T13:54:36.934578Z",
          "iopub.status.idle": "2022-10-01T13:54:36.944399Z",
          "shell.execute_reply.started": "2022-10-01T13:54:36.934536Z",
          "shell.execute_reply": "2022-10-01T13:54:36.943490Z"
        },
        "trusted": true,
        "id": "0Gr_ChdsC0_O",
        "outputId": "f4abd6e9-1845-48df-9fba-d94d39693554"
      },
      "execution_count": null,
      "outputs": [
        {
          "execution_count": 13,
          "output_type": "execute_result",
          "data": {
            "text/plain": "7970118"
          },
          "metadata": {}
        }
      ]
    },
    {
      "cell_type": "markdown",
      "source": [
        "### Calculate weights to handle class imbalance"
      ],
      "metadata": {
        "id": "4MIkya76C0_O"
      }
    },
    {
      "cell_type": "code",
      "source": [
        "cpc_code_number_df['weights'] = cpc_code_number_df['num_patents'].sum()/cpc_code_number_df['num_patents']\n",
        "cpc_code_number_df['weights'].replace(np.inf, 0.0, inplace = True)\n",
        "cpc_code_number_df['weights'] = cpc_code_number_df['weights']/cpc_code_number_df['weights'].sum()"
      ],
      "metadata": {
        "execution": {
          "iopub.status.busy": "2022-10-01T13:54:36.950100Z",
          "iopub.execute_input": "2022-10-01T13:54:36.950381Z",
          "iopub.status.idle": "2022-10-01T13:54:36.959089Z",
          "shell.execute_reply.started": "2022-10-01T13:54:36.950354Z",
          "shell.execute_reply": "2022-10-01T13:54:36.958012Z"
        },
        "trusted": true,
        "id": "_4zQVO7QC0_O"
      },
      "execution_count": null,
      "outputs": []
    },
    {
      "cell_type": "markdown",
      "source": [
        "### Run a sample input through the BERT for Patents model"
      ],
      "metadata": {
        "id": "YdK5TxBMC0_P"
      }
    },
    {
      "cell_type": "code",
      "source": [
        "model_bert_for_patents = AutoModel.from_pretrained(CFG.BERT_FOR_PATENTS_PATH)\n",
        "\n",
        "tokenizer = AutoTokenizer.from_pretrained(CFG.BERT_FOR_PATENTS_PATH)\n",
        "CFG.tokenizer = tokenizer\n",
        "\n",
        "config = AutoConfig.from_pretrained(CFG.BERT_FOR_PATENTS_PATH)\n",
        "sent = \"This is a patent.\"\n",
        "tokenized_sent = tokenizer(sent, padding = True, truncation = True, return_tensors = \"pt\")\n",
        "print(tokenized_sent)\n",
        "out = model_bert_for_patents(**tokenized_sent)\n"
      ],
      "metadata": {
        "execution": {
          "iopub.status.busy": "2022-10-01T13:54:36.960784Z",
          "iopub.execute_input": "2022-10-01T13:54:36.961202Z",
          "iopub.status.idle": "2022-10-01T13:54:52.684760Z",
          "shell.execute_reply.started": "2022-10-01T13:54:36.961165Z",
          "shell.execute_reply": "2022-10-01T13:54:52.683710Z"
        },
        "trusted": true,
        "id": "WqloBp8DC0_P",
        "outputId": "5f695dd0-86a2-417d-87af-aeba6c586f2e"
      },
      "execution_count": null,
      "outputs": [
        {
          "name": "stderr",
          "text": "Some weights of the model checkpoint at ../input/bert-for-patents/bert-for-patents-pytorch were not used when initializing BertModel: ['cls.predictions.decoder.bias', 'cls.predictions.bias', 'cls.predictions.transform.dense.bias', 'cls.predictions.transform.dense.weight', 'cls.predictions.transform.LayerNorm.weight', 'cls.predictions.transform.LayerNorm.bias', 'cls.seq_relationship.bias', 'cls.predictions.decoder.weight', 'cls.seq_relationship.weight']\n- This IS expected if you are initializing BertModel from the checkpoint of a model trained on another task or with another architecture (e.g. initializing a BertForSequenceClassification model from a BertForPreTraining model).\n- This IS NOT expected if you are initializing BertModel from the checkpoint of a model that you expect to be exactly identical (initializing a BertForSequenceClassification model from a BertForSequenceClassification model).\nAsking to truncate to max_length but no maximum length is provided and the model has no predefined maximum length. Default to no truncation.\n",
          "output_type": "stream"
        },
        {
          "name": "stdout",
          "text": "{'input_ids': tensor([[   2, 1688, 1668, 1042, 7018, 1017,    3]]), 'token_type_ids': tensor([[0, 0, 0, 0, 0, 0, 0]]), 'attention_mask': tensor([[1, 1, 1, 1, 1, 1, 1]])}\n",
          "output_type": "stream"
        }
      ]
    },
    {
      "cell_type": "code",
      "source": [
        "config"
      ],
      "metadata": {
        "execution": {
          "iopub.status.busy": "2022-10-01T13:54:52.686492Z",
          "iopub.execute_input": "2022-10-01T13:54:52.688106Z",
          "iopub.status.idle": "2022-10-01T13:54:52.696712Z",
          "shell.execute_reply.started": "2022-10-01T13:54:52.688061Z",
          "shell.execute_reply": "2022-10-01T13:54:52.695617Z"
        },
        "trusted": true,
        "id": "ueISsYffC0_P",
        "outputId": "c7f7f096-24e8-403a-da07-343443b4e086"
      },
      "execution_count": null,
      "outputs": [
        {
          "execution_count": 16,
          "output_type": "execute_result",
          "data": {
            "text/plain": "BertConfig {\n  \"_name_or_path\": \"../input/bert-for-patents/bert-for-patents-pytorch\",\n  \"architectures\": [\n    \"BertForMaskedLM\"\n  ],\n  \"attention_probs_dropout_prob\": 0.1,\n  \"classifier_dropout\": null,\n  \"hidden_act\": \"gelu\",\n  \"hidden_dropout_prob\": 0.1,\n  \"hidden_size\": 1024,\n  \"initializer_range\": 0.02,\n  \"intermediate_size\": 4096,\n  \"layer_norm_eps\": 1e-12,\n  \"max_position_embeddings\": 512,\n  \"model_type\": \"bert\",\n  \"num_attention_heads\": 16,\n  \"num_hidden_layers\": 24,\n  \"pad_token_id\": 0,\n  \"position_embedding_type\": \"absolute\",\n  \"transformers_version\": \"4.20.1\",\n  \"type_vocab_size\": 2,\n  \"use_cache\": true,\n  \"vocab_size\": 39859\n}"
          },
          "metadata": {}
        }
      ]
    },
    {
      "cell_type": "code",
      "source": [
        "print(out.last_hidden_state.shape)"
      ],
      "metadata": {
        "execution": {
          "iopub.status.busy": "2022-10-01T13:54:52.698742Z",
          "iopub.execute_input": "2022-10-01T13:54:52.699333Z",
          "iopub.status.idle": "2022-10-01T13:54:52.706966Z",
          "shell.execute_reply.started": "2022-10-01T13:54:52.699275Z",
          "shell.execute_reply": "2022-10-01T13:54:52.705942Z"
        },
        "trusted": true,
        "id": "15_dFHhVC0_Q",
        "outputId": "d2a6a6ce-4a34-47b5-cb85-4f18937dd688"
      },
      "execution_count": null,
      "outputs": [
        {
          "name": "stdout",
          "text": "torch.Size([1, 7, 1024])\n",
          "output_type": "stream"
        }
      ]
    },
    {
      "cell_type": "markdown",
      "source": [
        "### Run a sample input through DEBERTA V3 LARGE model"
      ],
      "metadata": {
        "id": "6lFbw-9AC0_Q"
      }
    },
    {
      "cell_type": "code",
      "source": [
        "config = AutoConfig.from_pretrained(CFG.DEBERTA_V3_LARGE_PATH, output_hidden_states = True)\n",
        "model_deberta_v3_large = AutoModel.from_pretrained(CFG.DEBERTA_V3_LARGE_PATH, config = config)\n",
        "tokenizer = AutoTokenizer.from_pretrained(CFG.DEBERTA_V3_LARGE_PATH)\n",
        "\n",
        "sent = \"This is a patent.\"\n",
        "tokenized_sent = tokenizer(sent, padding = True, truncation = True, return_tensors = \"pt\")\n",
        "print(tokenized_sent)\n",
        "out = model_deberta_v3_large(**tokenized_sent)\n"
      ],
      "metadata": {
        "execution": {
          "iopub.status.busy": "2022-10-01T13:54:52.708440Z",
          "iopub.execute_input": "2022-10-01T13:54:52.708860Z",
          "iopub.status.idle": "2022-10-01T13:55:07.591870Z",
          "shell.execute_reply.started": "2022-10-01T13:54:52.708811Z",
          "shell.execute_reply": "2022-10-01T13:55:07.590710Z"
        },
        "trusted": true,
        "id": "9-EuSL-1C0_Q",
        "outputId": "314196dc-a015-47b6-c011-d4cb6d31d865"
      },
      "execution_count": null,
      "outputs": [
        {
          "name": "stderr",
          "text": "Some weights of the model checkpoint at ../input/deberta-v3-large/deberta-v3-large were not used when initializing DebertaV2Model: ['mask_predictions.LayerNorm.bias', 'mask_predictions.LayerNorm.weight', 'lm_predictions.lm_head.bias', 'mask_predictions.classifer.weight', 'lm_predictions.lm_head.LayerNorm.bias', 'lm_predictions.lm_head.dense.bias', 'lm_predictions.lm_head.LayerNorm.weight', 'lm_predictions.lm_head.dense.weight', 'mask_predictions.dense.bias', 'mask_predictions.classifer.bias', 'mask_predictions.dense.weight']\n- This IS expected if you are initializing DebertaV2Model from the checkpoint of a model trained on another task or with another architecture (e.g. initializing a BertForSequenceClassification model from a BertForPreTraining model).\n- This IS NOT expected if you are initializing DebertaV2Model from the checkpoint of a model that you expect to be exactly identical (initializing a BertForSequenceClassification model from a BertForSequenceClassification model).\nSpecial tokens have been added in the vocabulary, make sure the associated word embeddings are fine-tuned or trained.\nSpecial tokens have been added in the vocabulary, make sure the associated word embeddings are fine-tuned or trained.\nAsking to truncate to max_length but no maximum length is provided and the model has no predefined maximum length. Default to no truncation.\n",
          "output_type": "stream"
        },
        {
          "name": "stdout",
          "text": "{'input_ids': tensor([[   1,  329,  269,  266, 6581,  260,    2]]), 'token_type_ids': tensor([[0, 0, 0, 0, 0, 0, 0]]), 'attention_mask': tensor([[1, 1, 1, 1, 1, 1, 1]])}\n",
          "output_type": "stream"
        }
      ]
    },
    {
      "cell_type": "code",
      "source": [
        "print(out[0])"
      ],
      "metadata": {
        "execution": {
          "iopub.status.busy": "2022-10-01T13:55:07.593278Z",
          "iopub.execute_input": "2022-10-01T13:55:07.593659Z",
          "iopub.status.idle": "2022-10-01T13:55:07.604746Z",
          "shell.execute_reply.started": "2022-10-01T13:55:07.593622Z",
          "shell.execute_reply": "2022-10-01T13:55:07.603615Z"
        },
        "trusted": true,
        "id": "l9UHNeX2C0_Q",
        "outputId": "6bd20889-a28d-4a70-c2e9-186c9ec860f8"
      },
      "execution_count": null,
      "outputs": [
        {
          "name": "stdout",
          "text": "tensor([[[-0.4624, -0.1580,  0.1821,  ..., -0.0218, -5.3449,  0.0437],\n         [-0.3222,  0.1772, -0.6142,  ...,  0.7221, -0.6977,  0.3440],\n         [ 0.0907,  0.5733, -0.2337,  ...,  0.7742, -0.7838,  0.4246],\n         ...,\n         [ 0.0646, -0.6353,  0.1548,  ...,  1.3551, -0.1917,  1.0668],\n         [-0.1836,  0.2148,  0.4133,  ...,  0.6328,  0.4898,  0.6443],\n         [ 1.5244, -0.5936,  0.5181,  ..., -0.0644,  0.2917,  0.0191]]],\n       grad_fn=<NativeLayerNormBackward0>)\n",
          "output_type": "stream"
        }
      ]
    },
    {
      "cell_type": "markdown",
      "source": [
        "### Build Custom Dataset"
      ],
      "metadata": {
        "id": "R0mEO5oIC0_Q"
      }
    },
    {
      "cell_type": "code",
      "source": [
        "class PatentClassification_TrainDataset(IterableDataset):\n",
        "    def __init__(self, cfg, cpc_code_dict, data_year_ranges, num_batches):\n",
        "        '''\n",
        "        data_year_ranges can be 1x2 list or 2x2 list\n",
        "        every row of the list specifies an year range\n",
        "        '''\n",
        "        super(PatentClassification_TrainDataset).__init__()\n",
        "        self.cfg = cfg\n",
        "        self.cpc_code_dict = cpc_code_dict\n",
        "        credentials = service_account.Credentials.from_service_account_file(self.cfg.GOOGLE_CLOUD_CRED_JSON)\n",
        "        self.bq_client = bigquery.Client(credentials= credentials, project = self.cfg.GOOGLE_CLOUD_PROJ_ID)\n",
        "        self.table_row_offset = 0\n",
        "        self.text = []\n",
        "        self.label_lists = []\n",
        "        self.num_batches = num_batches\n",
        "        if len(data_year_ranges) == 1:\n",
        "            self.data_start_date1 = r'{}-01-01'.format(data_year_ranges[0][0])\n",
        "            self.data_end_date1 = r'{}-12-31'.format(data_year_ranges[0][1])\n",
        "            self.data_start_date2 = self.data_start_date1\n",
        "            self.data_end_date2 = self.data_end_date1\n",
        "        else:\n",
        "            self.data_start_date1 = r'{}-01-01'.format(data_year_ranges[0][0])\n",
        "            self.data_end_date1 = r'{}-12-31'.format(data_year_ranges[0][1])\n",
        "            self.data_start_date2 = r'{}-01-01'.format(data_year_ranges[1][0])\n",
        "            self.data_end_date2 = r'{}-12-31'.format(data_year_ranges[1][1])\n",
        "        \n",
        "        if self.data_start_date1 != self.data_start_date2:\n",
        "            self.num_table_rows = find_num_dstnct_patent_cpc_in_years(data_year_ranges[0][0], data_year_ranges[0][1]) + \\\n",
        "                                  find_num_dstnct_patent_cpc_in_years(data_year_ranges[1][0], data_year_ranges[1][1])\n",
        "        else:\n",
        "            self.num_table_rows = find_num_dstnct_patent_cpc_in_years(data_year_ranges[0][0], data_year_ranges[0][1])\n",
        "            \n",
        "        self.f_reach_end = 0\n",
        "        \n",
        "        \n",
        "    def prepare_input(self):\n",
        "        inputs = self.cfg.tokenizer(self.text, add_special_tokens=True, max_length=self.cfg.MAX_TOKEN_LEN, padding=\"max_length\",\n",
        "                               return_offsets_mapping=False)\n",
        "        for k, v in inputs.items():\n",
        "            inputs[k] = torch.tensor(v, dtype=torch.long)\n",
        "            \n",
        "        labels = torch.zeros(len(self.label_lists), self.cfg.NUM_CLASSES, dtype = torch.float)\n",
        "        \n",
        "        for i, label_list in enumerate(self.label_lists):\n",
        "            indices = torch.tensor(list(map(self.cpc_code_dict.__getitem__, label_list)))\n",
        "            labels[i].index_fill_(0, indices, 1.0)         \n",
        "            \n",
        "        return inputs, labels\n",
        "            \n",
        "                  \n",
        "    def __iter__(self):\n",
        "        \n",
        "        if self.data_start_date1 != self.data_start_date2:\n",
        "            query = r\"\"\"\n",
        "                    SELECT DISTINCT t1.id, t2.group_id, t1.abstract\n",
        "                    FROM `patents-public-data.patentsview.patent` t1, `patents-public-data.patentsview.cpc_current` t2 \n",
        "                    WHERE t1.id = t2.patent_id AND t1.type='utility' AND ((timestamp(t1.date) >= timestamp('{}') AND timestamp(t1.date) <= timestamp('{}'))\n",
        "                    OR (timestamp(t1.date) >= timestamp('{}') AND timestamp(t1.date) <= timestamp('{}')))\n",
        "                    ORDER BY t1.id ASC, t2.group_id\n",
        "                    LIMIT {}\n",
        "                    OFFSET {}\n",
        "                    \"\"\".format(self.data_start_date1, self.data_end_date1, self.data_start_date2, self.data_end_date2, \n",
        "                               self.cfg.BATCH_SIZE, self.table_row_offset)\n",
        "        else:\n",
        "            query = r\"\"\"\n",
        "                    SELECT DISTINCT t1.id, t2.group_id, t1.abstract\n",
        "                    FROM `patents-public-data.patentsview.patent` t1, `patents-public-data.patentsview.cpc_current` t2 \n",
        "                    WHERE t1.id = t2.patent_id AND t1.type='utility' AND timestamp(t1.date) >= timestamp('{}') AND timestamp(t1.date) <= timestamp('{}')\n",
        "                    ORDER BY t1.id ASC, t2.group_id\n",
        "                    LIMIT {}\n",
        "                    OFFSET {}\n",
        "                    \"\"\".format(self.data_start_date1, self.data_end_date1, self.cfg.BATCH_SIZE, self.table_row_offset)\n",
        "            \n",
        "        \n",
        "        df = self.bq_client.query(query).to_dataframe()\n",
        "        patent_ids = df['id'].unique()\n",
        "        for patent_id in patent_ids:\n",
        "            df_curr = df.loc[df['id'] == patent_id].reset_index()\n",
        "            self.text.append(df_curr['abstract'][0]) #since patent id is same, abstracts are same(basically same patent has multiple cpc codes)\n",
        "            self.label_lists.append(list(df_curr['group_id']))\n",
        "            \n",
        "        inputs, labels = self.prepare_input()\n",
        "        \n",
        "        self.table_row_offset  = self.table_row_offset + self.cfg.BATCH_SIZE\n",
        "        if self.table_row_offset >= self.num_table_rows:\n",
        "            self.table_row_offset = 0  #most probably not needed\n",
        "            self.f_reach_end = 1\n",
        "            \n",
        "        self.text = []\n",
        "        self.label_lists = []\n",
        "        \n",
        "        yield inputs, labels, self.f_reach_end\n",
        "        \n",
        "        \n",
        "def worker_init_fn(_):\n",
        "    worker_info = torch.utils.data.get_worker_info()\n",
        "    dataset = worker_info.dataset  # the dataset copy in this worker process\n",
        "    num_batches_per_worker = dataset.num_batches//worker_info.num_workers\n",
        "    worker_id = worker_info.id\n",
        "    dataset.table_row_offset = worker_id*num_batches_per_worker*dataset.cfg.BATCH_SIZE\n",
        "   "
      ],
      "metadata": {
        "execution": {
          "iopub.status.busy": "2022-10-01T13:55:07.606381Z",
          "iopub.execute_input": "2022-10-01T13:55:07.606745Z",
          "iopub.status.idle": "2022-10-01T13:55:07.627627Z",
          "shell.execute_reply.started": "2022-10-01T13:55:07.606708Z",
          "shell.execute_reply": "2022-10-01T13:55:07.626709Z"
        },
        "trusted": true,
        "id": "m3Ynq0StC0_Q"
      },
      "execution_count": null,
      "outputs": []
    },
    {
      "cell_type": "code",
      "source": [
        "data_year_ranges = [[2000, 2005]]\n",
        "num_batches = math.ceil(find_num_patents_in_years(data_year_ranges[0][0], data_year_ranges[0][1])/ CFG.BATCH_SIZE)\n",
        "\n",
        "train_dataset = PatentClassification_TrainDataset(CFG, cpc_code_dict, [[2000, 2005]], num_batches)\n",
        "train_dataloader = DataLoader(train_dataset, batch_size = None, num_workers = 4, worker_init_fn = worker_init_fn)\n",
        "\n",
        "for _ in range(1):\n",
        "    inputs, labels, f_reached_end = next(iter(train_dataloader))\n",
        "    "
      ],
      "metadata": {
        "execution": {
          "iopub.status.busy": "2022-10-01T13:55:07.629365Z",
          "iopub.execute_input": "2022-10-01T13:55:07.630013Z",
          "iopub.status.idle": "2022-10-01T13:55:15.105433Z",
          "shell.execute_reply.started": "2022-10-01T13:55:07.629976Z",
          "shell.execute_reply": "2022-10-01T13:55:15.104178Z"
        },
        "trusted": true,
        "id": "b4BGFubLC0_R"
      },
      "execution_count": null,
      "outputs": []
    },
    {
      "cell_type": "markdown",
      "source": [
        "### Build Custom Model"
      ],
      "metadata": {
        "id": "TNRQy4gPC0_R"
      }
    },
    {
      "cell_type": "code",
      "source": [
        "class PatentClassificationModel(torch.nn.Module):\n",
        "    def __init__(self, cfg):\n",
        "        super().__init__()\n",
        "        self.cfg = cfg\n",
        "        self.model_config = AutoConfig.from_pretrained(self.cfg.BERT_FOR_PATENTS_PATH, output_hidden_states=True)\n",
        "        self.model = AutoModel.from_pretrained(self.cfg.BERT_FOR_PATENTS_PATH, config = self.model_config) \n",
        "        self.attention = torch.nn.Sequential(torch.nn.Linear(self.model_config.hidden_size, self.cfg.ATTENTION_INTERMEDIATE_SIZE),\n",
        "                                             torch.nn.Tanh(),\n",
        "                                             torch.nn.Linear(self.cfg.ATTENTION_INTERMEDIATE_SIZE, 1),\n",
        "                                            torch.nn.Softmax(dim=1))\n",
        "        self.fc_dropout = torch.nn.Dropout(self.cfg.DROPOUT_PROB)\n",
        "        self.fc = torch.nn.Linear(self.model_config.hidden_size, self.cfg.NUM_CLASSES)\n",
        "        \n",
        "        \n",
        "    def _init_weights(self, module):\n",
        "        if isinstance(module, torch.nn.Linear):\n",
        "            module.weight.data.normal_(mean=0.0, std=self.model_config.initializer_range)\n",
        "            if module.bias is not None:\n",
        "                module.bias.data.zero_()\n",
        "        elif isinstance(module, torch.nn.Embedding):\n",
        "            module.weight.data.normal_(mean=0.0, std=self.model_config.initializer_range)\n",
        "            if module.padding_idx is not None:\n",
        "                module.weight.data[module.padding_idx].zero_()\n",
        "        elif isinstance(module, torch.nn.LayerNorm):\n",
        "            module.bias.data.zero_()\n",
        "            module.weight.data.fill_(1.0)\n",
        "        \n",
        "    def forward(self, inputs):\n",
        "        #one abstract can have multiple cpc codes, hence pass a list of cpc codes for each abstract\n",
        "        model_outputs = self.model(**inputs)\n",
        "        last_hidden_states = model_outputs.last_hidden_state\n",
        "        weights = self.attention(last_hidden_states)\n",
        "        weighted_avg_hidden_states = torch.sum(weights * last_hidden_states, dim=1)\n",
        "        outputs = self.fc(self.fc_dropout(weighted_avg_hidden_states))\n",
        "        return outputs\n",
        "        "
      ],
      "metadata": {
        "execution": {
          "iopub.status.busy": "2022-10-01T13:55:15.107278Z",
          "iopub.execute_input": "2022-10-01T13:55:15.107694Z",
          "iopub.status.idle": "2022-10-01T13:55:15.122976Z",
          "shell.execute_reply.started": "2022-10-01T13:55:15.107648Z",
          "shell.execute_reply": "2022-10-01T13:55:15.121853Z"
        },
        "trusted": true,
        "id": "RXgveiDPC0_R"
      },
      "execution_count": null,
      "outputs": []
    },
    {
      "cell_type": "code",
      "source": [
        "model = PatentClassificationModel(CFG)"
      ],
      "metadata": {
        "execution": {
          "iopub.status.busy": "2022-10-01T13:55:15.124504Z",
          "iopub.execute_input": "2022-10-01T13:55:15.125027Z",
          "iopub.status.idle": "2022-10-01T13:55:20.869468Z",
          "shell.execute_reply.started": "2022-10-01T13:55:15.124990Z",
          "shell.execute_reply": "2022-10-01T13:55:20.868522Z"
        },
        "trusted": true,
        "id": "Jh4oh9RwC0_R",
        "outputId": "c28f1aa4-4447-4f32-d73e-694c1f29e279"
      },
      "execution_count": null,
      "outputs": [
        {
          "name": "stderr",
          "text": "Some weights of the model checkpoint at ../input/bert-for-patents/bert-for-patents-pytorch were not used when initializing BertModel: ['cls.predictions.decoder.bias', 'cls.predictions.bias', 'cls.predictions.transform.dense.bias', 'cls.predictions.transform.dense.weight', 'cls.predictions.transform.LayerNorm.weight', 'cls.predictions.transform.LayerNorm.bias', 'cls.seq_relationship.bias', 'cls.predictions.decoder.weight', 'cls.seq_relationship.weight']\n- This IS expected if you are initializing BertModel from the checkpoint of a model trained on another task or with another architecture (e.g. initializing a BertForSequenceClassification model from a BertForPreTraining model).\n- This IS NOT expected if you are initializing BertModel from the checkpoint of a model that you expect to be exactly identical (initializing a BertForSequenceClassification model from a BertForSequenceClassification model).\n",
          "output_type": "stream"
        }
      ]
    },
    {
      "cell_type": "markdown",
      "source": [
        "### Helper functions"
      ],
      "metadata": {
        "id": "oO3ENUylC0_R"
      }
    },
    {
      "cell_type": "code",
      "source": [
        "class AverageMeter(object):\n",
        "    \"\"\"Computes and stores the average and current value\"\"\"\n",
        "    def __init__(self):\n",
        "        self.reset()\n",
        "\n",
        "    def reset(self):\n",
        "        self.val = 0\n",
        "        self.avg = 0\n",
        "        self.sum = 0\n",
        "        self.count = 0\n",
        "\n",
        "    def update(self, val, n=1):\n",
        "        self.val = val\n",
        "        self.sum += val * n\n",
        "        self.count += n\n",
        "        self.avg = self.sum / self.count\n",
        "        \n",
        "def asMinutes(s):\n",
        "    m = math.floor(s / 60)\n",
        "    s -= m * 60\n",
        "    return '%dm %ds' % (m, s)\n",
        "\n",
        "\n",
        "def timeSince(since, percent):\n",
        "    now = time.time()\n",
        "    s = now - since\n",
        "    es = s / (percent)\n",
        "    rs = es - s\n",
        "    return '%s (remain %s)' % (asMinutes(s), asMinutes(rs))\n",
        "\n",
        "def get_optimizer_params(model, encoder_lr, decoder_lr, weight_decay=0.0):\n",
        "    param_optimizer = list(model.named_parameters())\n",
        "    no_decay = [\"bias\", \"LayerNorm.bias\", \"LayerNorm.weight\"]\n",
        "    optimizer_parameters = [\n",
        "        {'params': [p for n, p in model.model.named_parameters() if not any(nd in n for nd in no_decay)],\n",
        "         'lr': encoder_lr, 'weight_decay': weight_decay},\n",
        "        {'params': [p for n, p in model.model.named_parameters() if any(nd in n for nd in no_decay)],\n",
        "         'lr': encoder_lr, 'weight_decay': 0.0},\n",
        "        {'params': [p for n, p in model.named_parameters() if \"model\" not in n],\n",
        "         'lr': decoder_lr, 'weight_decay': 0.0}\n",
        "    ]\n",
        "    return optimizer_parameters\n",
        "\n",
        "\n",
        "    \n",
        "# ====================================================\n",
        "# scheduler\n",
        "# ====================================================\n",
        "def get_scheduler(cfg, optimizer, num_train_steps):\n",
        "    if cfg.SCHEDULER == 'linear':\n",
        "        scheduler = get_linear_schedule_with_warmup(\n",
        "            optimizer, num_warmup_steps=cfg.NUM_WARMUP_STEPS, num_training_steps=num_train_steps\n",
        "        )\n",
        "    elif cfg.SCHEDULER == 'cosine':\n",
        "        scheduler = get_cosine_schedule_with_warmup(\n",
        "            optimizer, num_warmup_steps=cfg.NUM_WARMUP_STEPS, num_training_steps=num_train_steps, num_cycles=cfg.NUM_CYCLES\n",
        "        )\n",
        "    return scheduler\n",
        "\n",
        "\n",
        "# ====================================================\n",
        "# Function to calculate loss\n",
        "# ====================================================\n",
        "def get_loss(preds, labels, criterion):\n",
        "    with torch.autocast(device_type = device.type):\n",
        "        loss = criterion(preds.view(-1, 1), labels.view(-1, 1))  \n",
        "        loss = loss.item()\n",
        "    return loss\n",
        "    \n",
        "\n",
        "def train_fn(train_dataloader, num_batches, model, criterion, optimizer, epoch, scheduler, device):\n",
        "    \n",
        "    model.train()\n",
        "    scaler = torch.cuda.amp.GradScaler()\n",
        "    loss_info = AverageMeter()\n",
        "    f_end_reached = 0\n",
        "    step_num = 0\n",
        "    start = end = time.time()\n",
        "    \n",
        "    while not f_end_reached:\n",
        "        \n",
        "        step_num = step_num + 1\n",
        "        inputs, labels, f_end_reached = next(iter(train_dataloader))\n",
        "        \n",
        "        for k, v in inputs.items():\n",
        "            inputs[k] = v.to(device)\n",
        "        labels = labels.to(device)\n",
        "        \n",
        "        batch_size = labels.size(0)\n",
        "        \n",
        "        with torch.autocast(device_type = device.type):\n",
        "            outputs = model(inputs)\n",
        "            loss = criterion(outputs.view(-1, 1), labels.view(-1, 1))\n",
        "            \n",
        "        loss_info.update(loss.item(), batch_size)\n",
        "                \n",
        "        # Set all gradients to 0\n",
        "        optimizer.zero_grad()\n",
        "        \n",
        "        # Calculate and scale gradients\n",
        "        scaler.scale(loss).backward()\n",
        "        grad_norm = torch.nn.utils.clip_grad_norm_(model.parameters(), CFG.MAX_GRAD_NORM)\n",
        "        \n",
        "        # Update Weights and Biases, Scaler\n",
        "        scaler.step(optimizer)\n",
        "        scaler.update()\n",
        "        \n",
        "        #Update Scheduler\n",
        "        scheduler.step()\n",
        "        \n",
        "        if step_num % CFG.PRINT_FREQ == 0 or step_num == num_batches - 1:\n",
        "            print('Epoch: [{0}][{1}/{2}] '\n",
        "                  'Elapsed {remain:s} '\n",
        "                  'Loss: {loss.val:.4f}({loss.avg:.4f}) '\n",
        "                  'Grad: {grad_norm:.4f}  '\n",
        "                  'LR: {lr:.8f}  '\n",
        "                  .format(epoch+1, step_num, num_batches, \n",
        "                          remain=timeSince(start, float(step_num)/num_batches),\n",
        "                          loss=loss_info,\n",
        "                          grad_norm=grad_norm,\n",
        "                          lr=scheduler.get_lr()[0]))\n",
        "    \n",
        "    return loss_info.avg\n",
        "\n",
        "def valid_fn(valid_dataloader, num_batches, model, criterion, device):\n",
        "    \n",
        "    model.eval()\n",
        "    loss_info = AverageMeter()\n",
        "    f_end_reached = 0\n",
        "    step_num = 0\n",
        "    start = end = time.time()\n",
        "    \n",
        "    while not f_end_reached:\n",
        "        \n",
        "        step_num = step_num + 1\n",
        "        inputs, labels, f_end_reached = next(iter(valid_dataloader))\n",
        "        \n",
        "        for k, v in inputs.items():\n",
        "            inputs[k] = v.to(device)\n",
        "        labels = labels.to(device)\n",
        "        \n",
        "        batch_size = labels.size(0)\n",
        "        \n",
        "        with torch.autocast(device_type = device.type):\n",
        "            with torch.no_grad():\n",
        "                outputs = model(inputs)\n",
        "            loss = criterion(outputs.view(-1, 1), labels.view(-1, 1))      \n",
        "                    \n",
        "        loss_info.update(loss.item(), batch_size)\n",
        "        try:\n",
        "            preds_concat = torch.cat((preds_concat, outputs), dim = 0)\n",
        "            labels_concat = torch.cat((labels_concat, labels), dim = 0)\n",
        "        except:    \n",
        "            preds_concat = outputs\n",
        "            labels_concat = labels\n",
        "        \n",
        "        if step_num % CFG.PRINT_FREQ == 0 or step_num == num_batches - 1:\n",
        "            print('Epoch: [{0}][{1}/{2}] '\n",
        "                  'Elapsed {remain:s} '\n",
        "                  'Loss: {loss.val:.4f}({loss.avg:.4f}) '\n",
        "                  .format(epoch+1, step_num, num_batches, \n",
        "                          remain=timeSince(start, float(step_num)/num_batches),\n",
        "                          loss=loss_info))\n",
        "        \n",
        "        \n",
        "        return loss_info.avg, preds_concat, labels_concat\n",
        "    \n",
        "    \n",
        "\n",
        "                    \n",
        " "
      ],
      "metadata": {
        "execution": {
          "iopub.status.busy": "2022-10-01T13:55:20.871169Z",
          "iopub.execute_input": "2022-10-01T13:55:20.871582Z",
          "iopub.status.idle": "2022-10-01T13:55:20.898049Z",
          "shell.execute_reply.started": "2022-10-01T13:55:20.871523Z",
          "shell.execute_reply": "2022-10-01T13:55:20.896922Z"
        },
        "trusted": true,
        "id": "R3vv8eHfC0_S"
      },
      "execution_count": null,
      "outputs": []
    },
    {
      "cell_type": "markdown",
      "source": [
        "### Training loop"
      ],
      "metadata": {
        "id": "tg78r61EC0_S"
      }
    },
    {
      "cell_type": "code",
      "source": [
        "def train_loop(fold):\n",
        "    \n",
        "    train_year_ranges = [[0, 0], [0, 0]]\n",
        "    valid_year_range = [[0, 0]]\n",
        "    fold_year_range_len = (CFG.TRAIN_PATENT_END_YEAR - (CFG.TRAIN_PATENT_START_YEAR - 1))/CFG.NUM_FOLDS\n",
        "    valid_year_range[0][0] = int(CFG.TRAIN_PATENT_START_YEAR + (fold - 1)*fold_year_range_len)\n",
        "    valid_year_range[0][1] = int(valid_year_range[0][0] + (fold_year_range_len - 1))\n",
        "    if fold == 1:\n",
        "        train_year_ranges[0][0] = int(valid_year_range[0][1] + 1)\n",
        "        train_year_ranges[0][1] = int(CFG.TRAIN_PATENT_END_YEAR)\n",
        "        train_year_ranges[1][0] = train_year_ranges[0][0] \n",
        "        train_year_ranges[1][1] = train_year_ranges[0][1]    \n",
        "    else:\n",
        "        train_year_ranges[0][0] = int(CFG.TRAIN_PATENT_START_YEAR)\n",
        "        train_year_ranges[0][1] = int(valid_year_range[0][0] - 1)\n",
        "        train_year_ranges[1][0] = int(valid_year_range[0][1] + 1)\n",
        "        train_year_ranges[1][1] = int(CFG.TRAIN_PATENT_END_YEAR)\n",
        "\n",
        "    \n",
        "    model = PatentClassificationModel(CFG)\n",
        "    model.to(device)\n",
        "    \n",
        "    optimizer_parameters = get_optimizer_params(model,\n",
        "                                                encoder_lr=CFG.ENCODER_LR, \n",
        "                                                decoder_lr=CFG.DECODER_LR,\n",
        "                                                weight_decay=CFG.WEIGHT_DECAY)\n",
        "    \n",
        "    optimizer = AdamW(optimizer_parameters, lr=CFG.ENCODER_LR, eps=CFG.EPS, betas=CFG.BETAS)\n",
        "    if fold == 1:\n",
        "        num_train_batches = math.ceil(find_num_patents_in_years(train_year_ranges[0][0], train_year_ranges[0][1])/ CFG.BATCH_SIZE)\n",
        "    else:\n",
        "        num_train_batches = math.ceil((find_num_patents_in_years(train_year_ranges[0][0], train_year_ranges[0][1]) + \\\n",
        "                                 find_num_patents_in_years(train_year_ranges[1][0], train_year_ranges[1][1]))/ CFG.BATCH_SIZE)\n",
        "    num_val_batches = math.ceil(find_num_patents_in_years(valid_year_range[0][0], valid_year_range[0][1])/ CFG.BATCH_SIZE)\n",
        "        \n",
        "    \n",
        "    num_train_steps = num_batches * CFG.NUM_EPOCHS\n",
        "    scheduler = get_scheduler(CFG, optimizer, num_train_steps)\n",
        "    \n",
        "    # ====================================================\n",
        "    # loop\n",
        "    # ====================================================\n",
        "    criterion = torch.nn.BCEWithLogitsLoss(reduction=\"mean\")\n",
        "    \n",
        "    best_loss = CFG.INFINITY\n",
        "    best_epoch = 0\n",
        "    \n",
        "    train_dataset = PatentClassification_TrainDataset(CFG, cpc_code_dict, train_year_ranges, num_train_batches)\n",
        "    valid_dataset = PatentClassification_TrainDataset(CFG, cpc_code_dict, valid_year_range, num_val_batches)\n",
        "    \n",
        "    #num_workers = 2 gives best speed (for GPU)\n",
        "    train_dataloader = DataLoader(train_dataset, batch_size = None, num_workers = 2, worker_init_fn = worker_init_fn) #batches are created in dataset itself\n",
        "    valid_dataloader = DataLoader(valid_dataset, batch_size = None, num_workers = 2, worker_init_fn = worker_init_fn) #batches are created in dataset itself\n",
        "    \n",
        "    \n",
        "    for epoch in range(CFG.NUM_EPOCHS):\n",
        "        start_time = time.time()\n",
        "        \n",
        "        #train\n",
        "        avg_train_loss = train_fn(train_dataloader, num_train_batches, model, criterion, optimizer, epoch, scheduler, device)\n",
        "        \n",
        "        #eval\n",
        "        avg_val_loss, preds_val, labels_val = valid_fn(valid_dataloader, num_val_batches, model, criterion, device)\n",
        "        \n",
        "        #overall validation loss\n",
        "        overall_val_loss = get_loss(preds_concat, labels_concat, criterion)\n",
        "        \n",
        "        elapsed = time.time() - start_time\n",
        "        \n",
        "        print(f\"Epoch {epoch+1} - avg_train_loss: {avg_train_loss:.4f},  avg_val_loss: {avg_val_loss:.4f},  overall_val_loss: {overall_val_loss: 4f} time: {elapsed:.0f}s\")\n",
        "            \n",
        "        if overall_val_loss < best_loss:\n",
        "            best_loss = overall_val_loss\n",
        "            best_epoch = epoch + 1\n",
        "            best_epoch_preds_val = preds_val\n",
        "            best_epoch_labels_val = labels_val\n",
        "            print(f'Epoch {best_epoch} - Save Best Score: {best_score:.4f} Model')\n",
        "            torch.save({'model': model.state_dict()},\n",
        "                       OUTPUT_DIR+f\"model_fold{fold}_best.pth\")\n",
        "    \n",
        "          \n",
        "            \n",
        "    torch.cuda.empty_cache()\n",
        "    gc.collect()\n",
        "              \n",
        "    return best_epoch_preds_val, best_epoch_labels_val "
      ],
      "metadata": {
        "execution": {
          "iopub.status.busy": "2022-10-01T13:55:20.899779Z",
          "iopub.execute_input": "2022-10-01T13:55:20.900526Z",
          "iopub.status.idle": "2022-10-01T13:55:20.920310Z",
          "shell.execute_reply.started": "2022-10-01T13:55:20.900486Z",
          "shell.execute_reply": "2022-10-01T13:55:20.919293Z"
        },
        "trusted": true,
        "id": "tVEz812xC0_S"
      },
      "execution_count": null,
      "outputs": []
    },
    {
      "cell_type": "code",
      "source": [
        "if __name__ == '__main__':\n",
        "    \n",
        "    if CFG.F_TRAIN:\n",
        "        \n",
        "        for fold in range(1, CFG.NUM_FOLDS, 1):\n",
        "            best_epoch_preds_val, best_epoch_labels_val = train_loop(fold)\n",
        "            \n",
        "            if fold != 1:\n",
        "                concat_preds_val = torch.cat((concat_preds_val, best_epoch_preds_val), dim = 0)\n",
        "                concat_labels_val = torch.cat((concat_labels_val, best_epoch_labels_val), dim = 0)\n",
        "            else:\n",
        "                concat_preds_val = best_epoch_preds_val\n",
        "                concat_labels_val = best_epoch_labels_val\n",
        "                \n",
        "            fold_val_loss = get_loss(best_epoch_preds_val, best_epoch_labels_val, criterion)\n",
        "            print(f\"Fold {fold} validation loss: {fold_val_loss:.4f}\")\n",
        "            \n",
        "        overall_val_loss = get_loss(concat_preds_val, concat_labels_val, criterion)\n",
        "        print(f\"Overall Cross Validation loss: {overall_val_loss:.4f}\")"
      ],
      "metadata": {
        "execution": {
          "iopub.status.busy": "2022-10-01T13:55:20.923042Z",
          "iopub.execute_input": "2022-10-01T13:55:20.923899Z",
          "iopub.status.idle": "2022-10-01T13:57:22.755382Z",
          "shell.execute_reply.started": "2022-10-01T13:55:20.923859Z",
          "shell.execute_reply": "2022-10-01T13:57:22.752361Z"
        },
        "trusted": true,
        "id": "oKG0pRqtC0_T",
        "outputId": "a0685932-b74e-4ecc-fa7f-f17b1aaa8df2"
      },
      "execution_count": null,
      "outputs": [
        {
          "name": "stderr",
          "text": "Some weights of the model checkpoint at ../input/bert-for-patents/bert-for-patents-pytorch were not used when initializing BertModel: ['cls.predictions.decoder.bias', 'cls.predictions.bias', 'cls.predictions.transform.dense.bias', 'cls.predictions.transform.dense.weight', 'cls.predictions.transform.LayerNorm.weight', 'cls.predictions.transform.LayerNorm.bias', 'cls.seq_relationship.bias', 'cls.predictions.decoder.weight', 'cls.seq_relationship.weight']\n- This IS expected if you are initializing BertModel from the checkpoint of a model trained on another task or with another architecture (e.g. initializing a BertForSequenceClassification model from a BertForPreTraining model).\n- This IS NOT expected if you are initializing BertModel from the checkpoint of a model that you expect to be exactly identical (initializing a BertForSequenceClassification model from a BertForSequenceClassification model).\n",
          "output_type": "stream"
        },
        {
          "name": "stdout",
          "text": "Epoch: [1][5/20925] Elapsed 0m 20s (remain 1442m 23s) Loss: 0.6530(0.6781) Grad: 25437.0781  LR: 0.00002000  \nEpoch: [1][10/20925] Elapsed 0m 34s (remain 1190m 23s) Loss: 0.5858(0.6459) Grad: 42732.9102  LR: 0.00002000  \nEpoch: [1][15/20925] Elapsed 0m 46s (remain 1088m 51s) Loss: 0.5168(0.6120) Grad: 32012.1699  LR: 0.00002000  \nEpoch: [1][20/20925] Elapsed 0m 59s (remain 1032m 25s) Loss: 0.4575(0.5798) Grad: 31056.2676  LR: 0.00002000  \nEpoch: [1][25/20925] Elapsed 1m 11s (remain 996m 46s) Loss: 0.4162(0.5502) Grad: 27193.9805  LR: 0.00002000  \nEpoch: [1][30/20925] Elapsed 1m 23s (remain 973m 33s) Loss: 0.3811(0.5239) Grad: 25830.4980  LR: 0.00002000  \nEpoch: [1][35/20925] Elapsed 1m 35s (remain 953m 55s) Loss: 0.3540(0.5011) Grad: 23612.6582  LR: 0.00002000  \n",
          "output_type": "stream"
        },
        {
          "traceback": [
            "\u001b[0;31m---------------------------------------------------------------------------\u001b[0m",
            "\u001b[0;31mKeyboardInterrupt\u001b[0m                         Traceback (most recent call last)",
            "\u001b[0;32m/tmp/ipykernel_17/406752723.py\u001b[0m in \u001b[0;36m<module>\u001b[0;34m\u001b[0m\n\u001b[1;32m      4\u001b[0m \u001b[0;34m\u001b[0m\u001b[0m\n\u001b[1;32m      5\u001b[0m         \u001b[0;32mfor\u001b[0m \u001b[0mfold\u001b[0m \u001b[0;32min\u001b[0m \u001b[0mrange\u001b[0m\u001b[0;34m(\u001b[0m\u001b[0;36m1\u001b[0m\u001b[0;34m,\u001b[0m \u001b[0mCFG\u001b[0m\u001b[0;34m.\u001b[0m\u001b[0mNUM_FOLDS\u001b[0m\u001b[0;34m,\u001b[0m \u001b[0;36m1\u001b[0m\u001b[0;34m)\u001b[0m\u001b[0;34m:\u001b[0m\u001b[0;34m\u001b[0m\u001b[0;34m\u001b[0m\u001b[0m\n\u001b[0;32m----> 6\u001b[0;31m             \u001b[0mbest_epoch_preds_val\u001b[0m\u001b[0;34m,\u001b[0m \u001b[0mbest_epoch_labels_val\u001b[0m \u001b[0;34m=\u001b[0m \u001b[0mtrain_loop\u001b[0m\u001b[0;34m(\u001b[0m\u001b[0mfold\u001b[0m\u001b[0;34m)\u001b[0m\u001b[0;34m\u001b[0m\u001b[0;34m\u001b[0m\u001b[0m\n\u001b[0m\u001b[1;32m      7\u001b[0m \u001b[0;34m\u001b[0m\u001b[0m\n\u001b[1;32m      8\u001b[0m             \u001b[0;32mif\u001b[0m \u001b[0mfold\u001b[0m \u001b[0;34m!=\u001b[0m \u001b[0;36m1\u001b[0m\u001b[0;34m:\u001b[0m\u001b[0;34m\u001b[0m\u001b[0;34m\u001b[0m\u001b[0m\n",
            "\u001b[0;32m/tmp/ipykernel_17/149133362.py\u001b[0m in \u001b[0;36mtrain_loop\u001b[0;34m(fold)\u001b[0m\n\u001b[1;32m     58\u001b[0m \u001b[0;34m\u001b[0m\u001b[0m\n\u001b[1;32m     59\u001b[0m         \u001b[0;31m#train\u001b[0m\u001b[0;34m\u001b[0m\u001b[0;34m\u001b[0m\u001b[0;34m\u001b[0m\u001b[0m\n\u001b[0;32m---> 60\u001b[0;31m         \u001b[0mavg_train_loss\u001b[0m \u001b[0;34m=\u001b[0m \u001b[0mtrain_fn\u001b[0m\u001b[0;34m(\u001b[0m\u001b[0mtrain_dataloader\u001b[0m\u001b[0;34m,\u001b[0m \u001b[0mnum_train_batches\u001b[0m\u001b[0;34m,\u001b[0m \u001b[0mmodel\u001b[0m\u001b[0;34m,\u001b[0m \u001b[0mcriterion\u001b[0m\u001b[0;34m,\u001b[0m \u001b[0moptimizer\u001b[0m\u001b[0;34m,\u001b[0m \u001b[0mepoch\u001b[0m\u001b[0;34m,\u001b[0m \u001b[0mscheduler\u001b[0m\u001b[0;34m,\u001b[0m \u001b[0mdevice\u001b[0m\u001b[0;34m)\u001b[0m\u001b[0;34m\u001b[0m\u001b[0;34m\u001b[0m\u001b[0m\n\u001b[0m\u001b[1;32m     61\u001b[0m \u001b[0;34m\u001b[0m\u001b[0m\n\u001b[1;32m     62\u001b[0m         \u001b[0;31m#eval\u001b[0m\u001b[0;34m\u001b[0m\u001b[0;34m\u001b[0m\u001b[0;34m\u001b[0m\u001b[0m\n",
            "\u001b[0;32m/tmp/ipykernel_17/102288952.py\u001b[0m in \u001b[0;36mtrain_fn\u001b[0;34m(train_dataloader, num_batches, model, criterion, optimizer, epoch, scheduler, device)\u001b[0m\n\u001b[1;32m     93\u001b[0m             \u001b[0mloss\u001b[0m \u001b[0;34m=\u001b[0m \u001b[0mcriterion\u001b[0m\u001b[0;34m(\u001b[0m\u001b[0moutputs\u001b[0m\u001b[0;34m.\u001b[0m\u001b[0mview\u001b[0m\u001b[0;34m(\u001b[0m\u001b[0;34m-\u001b[0m\u001b[0;36m1\u001b[0m\u001b[0;34m,\u001b[0m \u001b[0;36m1\u001b[0m\u001b[0;34m)\u001b[0m\u001b[0;34m,\u001b[0m \u001b[0mlabels\u001b[0m\u001b[0;34m.\u001b[0m\u001b[0mview\u001b[0m\u001b[0;34m(\u001b[0m\u001b[0;34m-\u001b[0m\u001b[0;36m1\u001b[0m\u001b[0;34m,\u001b[0m \u001b[0;36m1\u001b[0m\u001b[0;34m)\u001b[0m\u001b[0;34m)\u001b[0m\u001b[0;34m\u001b[0m\u001b[0;34m\u001b[0m\u001b[0m\n\u001b[1;32m     94\u001b[0m \u001b[0;34m\u001b[0m\u001b[0m\n\u001b[0;32m---> 95\u001b[0;31m         \u001b[0mloss_info\u001b[0m\u001b[0;34m.\u001b[0m\u001b[0mupdate\u001b[0m\u001b[0;34m(\u001b[0m\u001b[0mloss\u001b[0m\u001b[0;34m.\u001b[0m\u001b[0mitem\u001b[0m\u001b[0;34m(\u001b[0m\u001b[0;34m)\u001b[0m\u001b[0;34m,\u001b[0m \u001b[0mbatch_size\u001b[0m\u001b[0;34m)\u001b[0m\u001b[0;34m\u001b[0m\u001b[0;34m\u001b[0m\u001b[0m\n\u001b[0m\u001b[1;32m     96\u001b[0m \u001b[0;34m\u001b[0m\u001b[0m\n\u001b[1;32m     97\u001b[0m         \u001b[0;31m# Set all gradients to 0\u001b[0m\u001b[0;34m\u001b[0m\u001b[0;34m\u001b[0m\u001b[0;34m\u001b[0m\u001b[0m\n",
            "\u001b[0;31mKeyboardInterrupt\u001b[0m: "
          ],
          "ename": "KeyboardInterrupt",
          "evalue": "",
          "output_type": "error"
        }
      ]
    },
    {
      "cell_type": "code",
      "source": [],
      "metadata": {
        "id": "4g-F2wV8C0_T"
      },
      "execution_count": null,
      "outputs": []
    }
  ]
}