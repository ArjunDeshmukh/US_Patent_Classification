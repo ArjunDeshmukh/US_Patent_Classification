{
 "cells": [
  {
   "cell_type": "markdown",
   "id": "79ac7fb3",
   "metadata": {
    "id": "83YXgK8eC0_B",
    "papermill": {
     "duration": 0.007748,
     "end_time": "2022-10-23T14:06:09.105714",
     "exception": false,
     "start_time": "2022-10-23T14:06:09.097966",
     "status": "completed"
    },
    "tags": []
   },
   "source": [
    "### Importing Libraries\n"
   ]
  },
  {
   "cell_type": "code",
   "execution_count": 1,
   "id": "108a0cc2",
   "metadata": {
    "execution": {
     "iopub.execute_input": "2022-10-23T14:06:09.121075Z",
     "iopub.status.busy": "2022-10-23T14:06:09.120197Z",
     "iopub.status.idle": "2022-10-23T14:06:09.131264Z",
     "shell.execute_reply": "2022-10-23T14:06:09.130447Z"
    },
    "id": "6x774kWbGeJI",
    "papermill": {
     "duration": 0.020811,
     "end_time": "2022-10-23T14:06:09.133279",
     "exception": false,
     "start_time": "2022-10-23T14:06:09.112468",
     "status": "completed"
    },
    "tags": []
   },
   "outputs": [],
   "source": [
    "try:\n",
    "    import google.colab\n",
    "    IN_COLAB = True\n",
    "except:\n",
    "    IN_COLAB = False"
   ]
  },
  {
   "cell_type": "code",
   "execution_count": 2,
   "id": "d9e5f004",
   "metadata": {
    "execution": {
     "iopub.execute_input": "2022-10-23T14:06:09.147504Z",
     "iopub.status.busy": "2022-10-23T14:06:09.146713Z",
     "iopub.status.idle": "2022-10-23T14:06:09.151277Z",
     "shell.execute_reply": "2022-10-23T14:06:09.150489Z"
    },
    "id": "69ZldWGCDQ7n",
    "outputId": "f943f633-c840-4145-d57e-ef7dea037e65",
    "papermill": {
     "duration": 0.013625,
     "end_time": "2022-10-23T14:06:09.153211",
     "exception": false,
     "start_time": "2022-10-23T14:06:09.139586",
     "status": "completed"
    },
    "tags": []
   },
   "outputs": [],
   "source": [
    "if IN_COLAB:\n",
    "    from google.colab import drive\n",
    "    drive.mount('/content/drive')"
   ]
  },
  {
   "cell_type": "code",
   "execution_count": 3,
   "id": "c1b539ad",
   "metadata": {
    "execution": {
     "iopub.execute_input": "2022-10-23T14:06:09.167623Z",
     "iopub.status.busy": "2022-10-23T14:06:09.166837Z",
     "iopub.status.idle": "2022-10-23T14:06:09.171512Z",
     "shell.execute_reply": "2022-10-23T14:06:09.170710Z"
    },
    "id": "PjYyyi9tGGEL",
    "outputId": "ab9fdc41-7ee5-44af-8ac6-83e29d7731a9",
    "papermill": {
     "duration": 0.013972,
     "end_time": "2022-10-23T14:06:09.173416",
     "exception": false,
     "start_time": "2022-10-23T14:06:09.159444",
     "status": "completed"
    },
    "tags": []
   },
   "outputs": [],
   "source": [
    "if IN_COLAB:\n",
    "    !pip install transformers"
   ]
  },
  {
   "cell_type": "code",
   "execution_count": 4,
   "id": "9d1858a9",
   "metadata": {
    "_cell_guid": "b1076dfc-b9ad-4769-8c92-a6c4dae69d19",
    "_uuid": "8f2839f25d086af736a60e9eeb907d3b93b6e0e5",
    "execution": {
     "iopub.execute_input": "2022-10-23T14:06:09.187709Z",
     "iopub.status.busy": "2022-10-23T14:06:09.186891Z",
     "iopub.status.idle": "2022-10-23T14:06:16.284024Z",
     "shell.execute_reply": "2022-10-23T14:06:16.283027Z"
    },
    "id": "e7bR6yPtC0_E",
    "outputId": "d928b6c6-83c0-4e0a-e2ff-02c64bc31f85",
    "papermill": {
     "duration": 7.107136,
     "end_time": "2022-10-23T14:06:16.286784",
     "exception": false,
     "start_time": "2022-10-23T14:06:09.179648",
     "status": "completed"
    },
    "tags": []
   },
   "outputs": [
    {
     "name": "stdout",
     "output_type": "stream",
     "text": [
      "Device:  cuda\n"
     ]
    }
   ],
   "source": [
    "import requests\n",
    "import json\n",
    "import sys\n",
    "import pandas as pd\n",
    "import os.path\n",
    "import matplotlib.pyplot as plt\n",
    "import numpy as np\n",
    "import math\n",
    "\n",
    "import time\n",
    "from tqdm import tqdm\n",
    "\n",
    "from google.cloud import bigquery\n",
    "from google.oauth2 import service_account\n",
    "\n",
    "from transformers import AutoModelForMaskedLM\n",
    "from transformers import AutoModel, AutoConfig, AutoTokenizer, get_linear_schedule_with_warmup, get_cosine_schedule_with_warmup, DataCollatorWithPadding\n",
    "\n",
    "import torch\n",
    "from torch.profiler import profile, record_function, ProfilerActivity\n",
    "import torch.nn.functional as F\n",
    "from torch.optim import Adam, SGD, AdamW\n",
    "from torch.utils.data import Dataset, DataLoader, IterableDataset\n",
    "from torch.nn.utils.rnn import pad_sequence\n",
    "\n",
    "from sklearn.model_selection import StratifiedKFold, GroupKFold, KFold\n",
    "from sklearn.model_selection import train_test_split\n",
    "\n",
    "import warnings\n",
    "\n",
    "warnings.filterwarnings(\"ignore\")   \n",
    "\n",
    "device = torch.device('cuda' if torch.cuda.is_available() else 'cpu')\n",
    "print(\"Device: \", device)\n",
    "\n",
    "import os\n",
    "os.environ[\"TOKENIZERS_PARALLELISM\"] = \"false\"\n",
    "\n",
    "from sys import getsizeof\n",
    "import gc"
   ]
  },
  {
   "cell_type": "markdown",
   "id": "f4d702b9",
   "metadata": {
    "id": "FZvI20qjC0_G",
    "papermill": {
     "duration": 0.007508,
     "end_time": "2022-10-23T14:06:16.300929",
     "exception": false,
     "start_time": "2022-10-23T14:06:16.293421",
     "status": "completed"
    },
    "tags": []
   },
   "source": [
    "### Define configuration constants"
   ]
  },
  {
   "cell_type": "code",
   "execution_count": 5,
   "id": "f526fab5",
   "metadata": {
    "execution": {
     "iopub.execute_input": "2022-10-23T14:06:16.314784Z",
     "iopub.status.busy": "2022-10-23T14:06:16.314275Z",
     "iopub.status.idle": "2022-10-23T14:06:16.322677Z",
     "shell.execute_reply": "2022-10-23T14:06:16.321723Z"
    },
    "id": "TnAfPfmSC0_G",
    "papermill": {
     "duration": 0.017455,
     "end_time": "2022-10-23T14:06:16.324511",
     "exception": false,
     "start_time": "2022-10-23T14:06:16.307056",
     "status": "completed"
    },
    "tags": []
   },
   "outputs": [],
   "source": [
    "class CFG:\n",
    "    CPC_CODES_PATH = \"../input/cpc-code-upto-subclass/CPC_codes_upto_subclass.csv\"\n",
    "    PATENTS_DATA_PATH = \"../input/us-patents-abstracts-cpc/US_Patents_Titles_CPC_Section.csv\"\n",
    "    BERT_FOR_PATENTS_PATH = \"../input/bert-for-patents/bert-for-patents-pytorch\"\n",
    "    DEBERTA_V3_LARGE_PATH = \"../input/deberta-v3-large/deberta-v3-large\"\n",
    "    CPC_CODES_NUM_PATENTS_PATH = \"../input/cpc-code-num-patents/cpc_code_num_patents.csv\"\n",
    "    TRAINED_MODEL_PATH = \"../input/patentclassificationmodels/BERT_For_Patents_FineTuned_3.pth\"\n",
    "    OUTPUT_DIR = \"./\"\n",
    "    MAX_TOKEN_LEN = 512\n",
    "    DROPOUT_PROB = 0.2\n",
    "    ATTENTION_INTERMEDIATE_SIZE = 512\n",
    "    GOOGLE_CLOUD_CRED_JSON = '../input/googlecloudcred/us-patent-classification-d344a6ddc702.json'\n",
    "    GOOGLE_CLOUD_PROJ_ID = 'us-patent-classification'\n",
    "    BATCH_SIZE = 128\n",
    "    NUM_EPOCHS = 5\n",
    "    TRAIN_PATENT_START_YEAR = 2001\n",
    "    TRAIN_PATENT_END_YEAR = 2018\n",
    "    TEST_PATENT_START_YEAR = 2019\n",
    "    TEST_PATENT_END_YEAR = 2022\n",
    "    NUM_FOLDS = 6 #Total number of years used for training should be divisible by this number\n",
    "    ENCODER_LR = 2e-5\n",
    "    DECODER_LR = 2e-5\n",
    "    MIN_LR = 1e-6\n",
    "    EPS = 1e-8\n",
    "    WEIGHT_DECAY = 0.01\n",
    "    SCHEDULER = 'linear'\n",
    "    NUM_WARMUP_STEPS = 0\n",
    "    NUM_CYCLES = 0.5\n",
    "    BETAS=(0.9, 0.999)\n",
    "    MAX_GRAD_NORM = 1000\n",
    "    PRINT_FREQ = 1000\n",
    "    INFINITY = 1e6\n",
    "    F_TRAIN = 0\n",
    "    MID_EPOCH_SAVE_PERCENT = 0.5\n",
    "  \n",
    "  # Parameters which will be added in subsequent code:\n",
    "  # NUM_CLASSES, TRAIN_NUM_PATENTS\n",
    "\n",
    "if IN_COLAB:\n",
    "    CFG.CPC_CODES_PATH = \"/content/drive/MyDrive/MachineLearning/ML_Deployment/Patent_Class_Inputs/cpc-code-upto-subclass/CPC_codes_upto_subclass.csv\"\n",
    "    CFG.PATENTS_DATA_PATH = \"/content/drive/MyDrive/MachineLearning/ML_Deployment/Patent_Class_Inputs/us-patents-cpc-text/US_Patents_Titles_CPC_Section.csv\"\n",
    "    CFG.BERT_FOR_PATENTS_PATH = \"/content/drive/MyDrive/MachineLearning/ML_Deployment/Patent_Class_Inputs/bert-for-patents-pytorch\"\n",
    "    CFG.GOOGLE_CLOUD_CRED_JSON = \"/content/drive/MyDrive/MachineLearning/ML_Deployment/Patent_Class_Inputs/googlecloudcred/us-patent-classification-d344a6ddc702.json\"\n",
    "    CFG.OUTPUT_DIR = \"/content/drive/MyDrive/MachineLearning/ML_Deployment/Patent_Class_Outputs/\""
   ]
  },
  {
   "cell_type": "markdown",
   "id": "a62efbfa",
   "metadata": {
    "id": "07hZ1QpUC0_H",
    "papermill": {
     "duration": 0.005972,
     "end_time": "2022-10-23T14:06:16.336760",
     "exception": false,
     "start_time": "2022-10-23T14:06:16.330788",
     "status": "completed"
    },
    "tags": []
   },
   "source": [
    "### List of CPC codes"
   ]
  },
  {
   "cell_type": "code",
   "execution_count": 6,
   "id": "c6f8cd95",
   "metadata": {
    "execution": {
     "iopub.execute_input": "2022-10-23T14:06:16.350724Z",
     "iopub.status.busy": "2022-10-23T14:06:16.350131Z",
     "iopub.status.idle": "2022-10-23T14:06:16.385010Z",
     "shell.execute_reply": "2022-10-23T14:06:16.384061Z"
    },
    "id": "v_Bg2DLLC0_H",
    "outputId": "1eb7192d-b9f8-4f2a-d53b-b897d3c8f66e",
    "papermill": {
     "duration": 0.043952,
     "end_time": "2022-10-23T14:06:16.387064",
     "exception": false,
     "start_time": "2022-10-23T14:06:16.343112",
     "status": "completed"
    },
    "tags": []
   },
   "outputs": [
    {
     "name": "stdout",
     "output_type": "stream",
     "text": [
      "Number of rows in dataframe:  674 \n",
      "\n",
      "Number of CPC codes upto subclass:  674\n"
     ]
    }
   ],
   "source": [
    "cpc_codes_upto_subclass_df = pd.read_csv(CFG.CPC_CODES_PATH)\n",
    "cpc_codes_upto_subclass_df.head()\n",
    "num_codes = len(pd.unique(cpc_codes_upto_subclass_df['code']))\n",
    "sections = pd.unique(cpc_codes_upto_subclass_df['section'])\n",
    "df_len = len(cpc_codes_upto_subclass_df)\n",
    "\n",
    "print(\"Number of rows in dataframe: \", df_len, \"\\n\")\n",
    "print(\"Number of CPC codes upto subclass: \", num_codes)\n",
    "cpc_code_dict = dict(zip(cpc_codes_upto_subclass_df['code'].values, cpc_codes_upto_subclass_df.index))\n",
    "cpc_code_section_dict = dict(zip(sections, range(len(sections))))\n",
    "\n",
    "CFG.NUM_CLASSES = len(sections)"
   ]
  },
  {
   "cell_type": "markdown",
   "id": "1b92bea8",
   "metadata": {
    "id": "FXdNeO0NKtpl",
    "papermill": {
     "duration": 0.007506,
     "end_time": "2022-10-23T14:06:16.401205",
     "exception": false,
     "start_time": "2022-10-23T14:06:16.393699",
     "status": "completed"
    },
    "tags": []
   },
   "source": [
    "### Dowloaded Patent Data"
   ]
  },
  {
   "cell_type": "code",
   "execution_count": 7,
   "id": "d564c90b",
   "metadata": {
    "execution": {
     "iopub.execute_input": "2022-10-23T14:06:16.415850Z",
     "iopub.status.busy": "2022-10-23T14:06:16.415033Z",
     "iopub.status.idle": "2022-10-23T14:06:26.871918Z",
     "shell.execute_reply": "2022-10-23T14:06:26.870803Z"
    },
    "id": "fH_pzGHjKtpl",
    "papermill": {
     "duration": 10.466421,
     "end_time": "2022-10-23T14:06:26.874263",
     "exception": false,
     "start_time": "2022-10-23T14:06:16.407842",
     "status": "completed"
    },
    "tags": []
   },
   "outputs": [],
   "source": [
    "patent_data_df = pd.read_csv(CFG.PATENTS_DATA_PATH)\n",
    "patent_data_df.drop(columns = ['Unnamed: 0'], inplace = True)"
   ]
  },
  {
   "cell_type": "code",
   "execution_count": 8,
   "id": "3d7185b0",
   "metadata": {
    "execution": {
     "iopub.execute_input": "2022-10-23T14:06:26.888980Z",
     "iopub.status.busy": "2022-10-23T14:06:26.888686Z",
     "iopub.status.idle": "2022-10-23T14:06:31.769247Z",
     "shell.execute_reply": "2022-10-23T14:06:31.768328Z"
    },
    "id": "PvthU26nKtpm",
    "outputId": "d2f1848a-9f6f-4890-84e9-2bc51feab80b",
    "papermill": {
     "duration": 4.890283,
     "end_time": "2022-10-23T14:06:31.771588",
     "exception": false,
     "start_time": "2022-10-23T14:06:26.881305",
     "status": "completed"
    },
    "tags": []
   },
   "outputs": [
    {
     "data": {
      "text/plain": [
       "(array([  2.,   0., 388., ...,   0.,   0.,   4.]),\n",
       " array([  2.        ,   2.42992126,   2.85984252, ..., 547.14015748,\n",
       "        547.57007874, 548.        ]),\n",
       " <BarContainer object of 1270 artists>)"
      ]
     },
     "execution_count": 8,
     "metadata": {},
     "output_type": "execute_result"
    },
    {
     "data": {
      "image/png": "[encoded data removed]",
      "text/plain": [
       "<Figure size 432x288 with 1 Axes>"
      ]
     },
     "metadata": {
      "needs_background": "light"
     },
     "output_type": "display_data"
    }
   ],
   "source": [
    "l_title = np.array(patent_data_df.title.apply(lambda x: len(x)))\n",
    "plt.hist(l_title, bins='auto')"
   ]
  },
  {
   "cell_type": "code",
   "execution_count": 9,
   "id": "f56aba04",
   "metadata": {
    "execution": {
     "iopub.execute_input": "2022-10-23T14:06:31.786667Z",
     "iopub.status.busy": "2022-10-23T14:06:31.786345Z",
     "iopub.status.idle": "2022-10-23T14:06:32.174268Z",
     "shell.execute_reply": "2022-10-23T14:06:32.172223Z"
    },
    "papermill": {
     "duration": 0.398391,
     "end_time": "2022-10-23T14:06:32.176813",
     "exception": false,
     "start_time": "2022-10-23T14:06:31.778422",
     "status": "completed"
    },
    "tags": []
   },
   "outputs": [
    {
     "name": "stdout",
     "output_type": "stream",
     "text": [
      "38.161341044159585\n"
     ]
    },
    {
     "data": {
      "image/png": "[encoded data removed]",
      "text/plain": [
       "<Figure size 432x288 with 1 Axes>"
      ]
     },
     "metadata": {
      "needs_background": "light"
     },
     "output_type": "display_data"
    }
   ],
   "source": [
    "section_instances = patent_data_df['section_id'].value_counts()\n",
    "plt.plot(section_instances)\n",
    "print(max(section_instances)/min(section_instances))"
   ]
  },
  {
   "cell_type": "markdown",
   "id": "1a6823f6",
   "metadata": {
    "id": "2EZi48ItC0_L",
    "papermill": {
     "duration": 0.007168,
     "end_time": "2022-10-23T14:06:32.191371",
     "exception": false,
     "start_time": "2022-10-23T14:06:32.184203",
     "status": "completed"
    },
    "tags": []
   },
   "source": [
    "### Count the number of patents for each cpc_code"
   ]
  },
  {
   "cell_type": "code",
   "execution_count": 10,
   "id": "c611f8a0",
   "metadata": {
    "execution": {
     "iopub.execute_input": "2022-10-23T14:06:32.207755Z",
     "iopub.status.busy": "2022-10-23T14:06:32.206712Z",
     "iopub.status.idle": "2022-10-23T14:06:32.213806Z",
     "shell.execute_reply": "2022-10-23T14:06:32.212771Z"
    },
    "id": "-sy3j6E9Ktpm",
    "outputId": "e4236c00-59aa-4fcc-8030-141f90704500",
    "papermill": {
     "duration": 0.017561,
     "end_time": "2022-10-23T14:06:32.215963",
     "exception": false,
     "start_time": "2022-10-23T14:06:32.198402",
     "status": "completed"
    },
    "tags": []
   },
   "outputs": [
    {
     "data": {
      "text/plain": [
       "\"\\ncpc_code_count = dict(zip(cpc_codes_upto_subclass_df.index, [0 for x in range(0,len(cpc_codes_upto_subclass_df.index))]))\\n\\nfor cpc_code in cpc_code_dict.keys():\\n    \\n    cpc_code_count[cpc_code_dict[cpc_code]] = len(patent_data_df[patent_data_df['group_id'] == cpc_code].index)\\n    \\nplt.plot(cpc_code_count.keys(), cpc_code_count.values())\\n\\n\""
      ]
     },
     "execution_count": 10,
     "metadata": {},
     "output_type": "execute_result"
    }
   ],
   "source": [
    "'''\n",
    "cpc_code_count = dict(zip(cpc_codes_upto_subclass_df.index, [0 for x in range(0,len(cpc_codes_upto_subclass_df.index))]))\n",
    "\n",
    "for cpc_code in cpc_code_dict.keys():\n",
    "    \n",
    "    cpc_code_count[cpc_code_dict[cpc_code]] = len(patent_data_df[patent_data_df['group_id'] == cpc_code].index)\n",
    "    \n",
    "plt.plot(cpc_code_count.keys(), cpc_code_count.values())\n",
    "\n",
    "'''\n"
   ]
  },
  {
   "cell_type": "markdown",
   "id": "c873dc4f",
   "metadata": {
    "id": "xcwSBA60Ktpm",
    "papermill": {
     "duration": 0.007022,
     "end_time": "2022-10-23T14:06:32.230071",
     "exception": false,
     "start_time": "2022-10-23T14:06:32.223049",
     "status": "completed"
    },
    "tags": []
   },
   "source": [
    "### Train Validation Split"
   ]
  },
  {
   "cell_type": "code",
   "execution_count": 11,
   "id": "1d2aaeba",
   "metadata": {
    "execution": {
     "iopub.execute_input": "2022-10-23T14:06:32.245635Z",
     "iopub.status.busy": "2022-10-23T14:06:32.244853Z",
     "iopub.status.idle": "2022-10-23T14:06:32.435274Z",
     "shell.execute_reply": "2022-10-23T14:06:32.434351Z"
    },
    "id": "4iCZt9k-Ktpm",
    "papermill": {
     "duration": 0.200631,
     "end_time": "2022-10-23T14:06:32.437684",
     "exception": false,
     "start_time": "2022-10-23T14:06:32.237053",
     "status": "completed"
    },
    "tags": []
   },
   "outputs": [],
   "source": [
    "# ================================================================================================\n",
    "# train_test_split does not work if the \"stratify\" input has any label with only a single occurence\n",
    "# So, we need to repeat those rows which have CPC codes with just a single occurence\n",
    "# =================================================================================================\n",
    "s = patent_data_df['section_id'].value_counts()\n",
    "freq_1_s = s[s == 1]\n",
    "for section in freq_1_s.index:\n",
    "    s2 = patent_data_df[patent_data_df['section_id'] == section]\n",
    "    patent_data_df = pd.concat([patent_data_df, s2], ignore_index = True)"
   ]
  },
  {
   "cell_type": "code",
   "execution_count": 12,
   "id": "a644016a",
   "metadata": {
    "execution": {
     "iopub.execute_input": "2022-10-23T14:06:32.453779Z",
     "iopub.status.busy": "2022-10-23T14:06:32.452941Z",
     "iopub.status.idle": "2022-10-23T14:07:29.057635Z",
     "shell.execute_reply": "2022-10-23T14:07:29.056441Z"
    },
    "id": "hVxZz8hwKtpn",
    "papermill": {
     "duration": 56.615386,
     "end_time": "2022-10-23T14:07:29.060271",
     "exception": false,
     "start_time": "2022-10-23T14:06:32.444885",
     "status": "completed"
    },
    "tags": []
   },
   "outputs": [],
   "source": [
    "train_val_df, test_df = train_test_split(patent_data_df, test_size=0.20, stratify = patent_data_df['section_id'])\n",
    "train_df, valid_df = train_test_split(train_val_df, test_size=0.25, stratify = train_val_df['section_id'])\n",
    "\n",
    "train_df.reset_index(inplace = True)\n",
    "valid_df.reset_index(inplace = True)\n",
    "test_df.reset_index(inplace = True)\n",
    "\n",
    "train_df = train_df.groupby(['id', 'title'], sort = False, as_index = False).agg({'section_id':list})\n",
    "valid_df = valid_df.groupby(['id', 'title'], sort = False, as_index = False).agg({'section_id':list})\n",
    "test_df = test_df.groupby(['id', 'title'], sort = False, as_index = False).agg({'section_id':list})\n",
    "\n",
    "del train_val_df"
   ]
  },
  {
   "cell_type": "markdown",
   "id": "e85fa642",
   "metadata": {
    "id": "YdK5TxBMC0_P",
    "papermill": {
     "duration": 0.015772,
     "end_time": "2022-10-23T14:07:29.089929",
     "exception": false,
     "start_time": "2022-10-23T14:07:29.074157",
     "status": "completed"
    },
    "tags": []
   },
   "source": [
    "### Run a sample input through the BERT for Patents model"
   ]
  },
  {
   "cell_type": "code",
   "execution_count": 13,
   "id": "d02a7711",
   "metadata": {
    "execution": {
     "iopub.execute_input": "2022-10-23T14:07:29.111442Z",
     "iopub.status.busy": "2022-10-23T14:07:29.111060Z",
     "iopub.status.idle": "2022-10-23T14:07:29.249277Z",
     "shell.execute_reply": "2022-10-23T14:07:29.247641Z"
    },
    "id": "v9YPZ_esKtpn",
    "papermill": {
     "duration": 0.154532,
     "end_time": "2022-10-23T14:07:29.252750",
     "exception": false,
     "start_time": "2022-10-23T14:07:29.098218",
     "status": "completed"
    },
    "tags": []
   },
   "outputs": [],
   "source": [
    "tokenizer = AutoTokenizer.from_pretrained(CFG.BERT_FOR_PATENTS_PATH)\n",
    "CFG.tokenizer = tokenizer"
   ]
  },
  {
   "cell_type": "code",
   "execution_count": 14,
   "id": "4d6d6591",
   "metadata": {
    "execution": {
     "iopub.execute_input": "2022-10-23T14:07:29.280252Z",
     "iopub.status.busy": "2022-10-23T14:07:29.279847Z",
     "iopub.status.idle": "2022-10-23T14:07:29.287586Z",
     "shell.execute_reply": "2022-10-23T14:07:29.286401Z"
    },
    "id": "WqloBp8DC0_P",
    "outputId": "c5acff3a-60bd-43f4-c2c2-19ce3d4157da",
    "papermill": {
     "duration": 0.025811,
     "end_time": "2022-10-23T14:07:29.292224",
     "exception": false,
     "start_time": "2022-10-23T14:07:29.266413",
     "status": "completed"
    },
    "tags": []
   },
   "outputs": [
    {
     "data": {
      "text/plain": [
       "'\\nconfig = AutoConfig.from_pretrained(CFG.BERT_FOR_PATENTS_PATH)\\nconfig.max_position_embeddings = CFG.MAX_TOKEN_LEN\\nmodel_bert_for_patents = AutoModel.from_pretrained(CFG.BERT_FOR_PATENTS_PATH, config = config, ignore_mismatched_sizes=True)\\n\\nsent = [\"This is a patent\", \"Hello all\"]\\ntokenized_sent = tokenizer(sent, truncation = True, add_special_tokens=True, max_length=CFG.MAX_TOKEN_LEN, padding=\"max_length\",\\n                           return_offsets_mapping=False, return_tensors = \"pt\")\\nout = model_bert_for_patents(**tokenized_sent)\\n\\n'"
      ]
     },
     "execution_count": 14,
     "metadata": {},
     "output_type": "execute_result"
    }
   ],
   "source": [
    "'''\n",
    "config = AutoConfig.from_pretrained(CFG.BERT_FOR_PATENTS_PATH)\n",
    "config.max_position_embeddings = CFG.MAX_TOKEN_LEN\n",
    "model_bert_for_patents = AutoModel.from_pretrained(CFG.BERT_FOR_PATENTS_PATH, config = config, ignore_mismatched_sizes=True)\n",
    "\n",
    "sent = [\"This is a patent\", \"Hello all\"]\n",
    "tokenized_sent = tokenizer(sent, truncation = True, add_special_tokens=True, max_length=CFG.MAX_TOKEN_LEN, padding=\"max_length\",\n",
    "                           return_offsets_mapping=False, return_tensors = \"pt\")\n",
    "out = model_bert_for_patents(**tokenized_sent)\n",
    "\n",
    "'''\n"
   ]
  },
  {
   "cell_type": "markdown",
   "id": "a4b5d8d4",
   "metadata": {
    "id": "R0mEO5oIC0_Q",
    "papermill": {
     "duration": 0.010959,
     "end_time": "2022-10-23T14:07:29.314883",
     "exception": false,
     "start_time": "2022-10-23T14:07:29.303924",
     "status": "completed"
    },
    "tags": []
   },
   "source": [
    "### Build Custom Dataset"
   ]
  },
  {
   "cell_type": "code",
   "execution_count": 15,
   "id": "86586b2e",
   "metadata": {
    "execution": {
     "iopub.execute_input": "2022-10-23T14:07:29.339463Z",
     "iopub.status.busy": "2022-10-23T14:07:29.338977Z",
     "iopub.status.idle": "2022-10-23T14:07:29.361693Z",
     "shell.execute_reply": "2022-10-23T14:07:29.360703Z"
    },
    "id": "Oxwerp8OKtpo",
    "outputId": "084c3408-03fc-40f8-a5e9-d47c82257761",
    "papermill": {
     "duration": 0.038463,
     "end_time": "2022-10-23T14:07:29.364625",
     "exception": false,
     "start_time": "2022-10-23T14:07:29.326162",
     "status": "completed"
    },
    "tags": []
   },
   "outputs": [
    {
     "data": {
      "text/plain": [
       "\"\\ndata_collator = DataCollatorWithPadding(tokenizer=CFG.tokenizer, padding = 'longest')    \\ndef custom_collate_fn(batch):\\n    \\n    for idx, this_batch in enumerate(batch):\\n        inputs, labels = this_batch\\n        if idx != 0:\\n            inputs_dict_list.append(inputs)\\n            labels_list = torch.cat((labels_list, labels), dim=0)\\n        else:\\n            inputs_dict_list = [inputs]\\n            labels_list = labels\\n           \\n    padded_input_dict_list = data_collator(inputs_dict_list)\\n    \\n    return padded_input_dict_list, labels_list\\n\\n\""
      ]
     },
     "execution_count": 15,
     "metadata": {},
     "output_type": "execute_result"
    }
   ],
   "source": [
    "class PatentClassification_TrainDataset(Dataset):\n",
    "    \n",
    "    def __init__(self, cfg, cpc_code_section_dict, df):\n",
    "        super(PatentClassification_TrainDataset).__init__()\n",
    "        self.cfg = cfg\n",
    "        self.cpc_code_section_dict = cpc_code_section_dict\n",
    "        self.df = df\n",
    "        \n",
    "    def prepare_input(self, batch_num):\n",
    "        \n",
    "        start_idx = min(batch_num * self.cfg.BATCH_SIZE, len(self.df.index)-1)\n",
    "        end_idx = min(start_idx + self.cfg.BATCH_SIZE - 1, len(self.df.index) - 1)\n",
    "       \n",
    "        inputs = self.cfg.tokenizer(list(self.df.loc[start_idx: end_idx, 'title']), truncation = True, add_special_tokens=True, \n",
    "                                    max_length=self.cfg.MAX_TOKEN_LEN, padding = 'longest')\n",
    "        \n",
    "        for k, v in inputs.items():\n",
    "            inputs[k] = torch.tensor(v, dtype=torch.long)\n",
    "            \n",
    "        labels = torch.zeros(end_idx - start_idx + 1, self.cfg.NUM_CLASSES, dtype = torch.float)\n",
    "        for i in range(labels.size(0)):\n",
    "            indices = torch.tensor(list(map(self.cpc_code_section_dict.__getitem__, self.df.loc[i+start_idx, 'section_id'])))\n",
    "            labels[i].index_fill_(dim = -1, index = indices, value = 1.0)         \n",
    "            \n",
    "        return inputs, labels\n",
    "    \n",
    "    def __len__(self):\n",
    "        return len(self.df.index)\n",
    "    \n",
    "    def __getitem__(self, batch_num):\n",
    "        \n",
    "        inputs, labels = self.prepare_input(batch_num)\n",
    "        \n",
    "        return inputs, labels\n",
    "    \n",
    "'''\n",
    "data_collator = DataCollatorWithPadding(tokenizer=CFG.tokenizer, padding = 'longest')    \n",
    "def custom_collate_fn(batch):\n",
    "    \n",
    "    for idx, this_batch in enumerate(batch):\n",
    "        inputs, labels = this_batch\n",
    "        if idx != 0:\n",
    "            inputs_dict_list.append(inputs)\n",
    "            labels_list = torch.cat((labels_list, labels), dim=0)\n",
    "        else:\n",
    "            inputs_dict_list = [inputs]\n",
    "            labels_list = labels\n",
    "           \n",
    "    padded_input_dict_list = data_collator(inputs_dict_list)\n",
    "    \n",
    "    return padded_input_dict_list, labels_list\n",
    "\n",
    "'''"
   ]
  },
  {
   "cell_type": "markdown",
   "id": "a999d99f",
   "metadata": {
    "id": "TNRQy4gPC0_R",
    "papermill": {
     "duration": 0.011188,
     "end_time": "2022-10-23T14:07:29.387969",
     "exception": false,
     "start_time": "2022-10-23T14:07:29.376781",
     "status": "completed"
    },
    "tags": []
   },
   "source": [
    "### Build Custom Model"
   ]
  },
  {
   "cell_type": "code",
   "execution_count": 16,
   "id": "537b461e",
   "metadata": {
    "execution": {
     "iopub.execute_input": "2022-10-23T14:07:29.412923Z",
     "iopub.status.busy": "2022-10-23T14:07:29.412576Z",
     "iopub.status.idle": "2022-10-23T14:07:29.447939Z",
     "shell.execute_reply": "2022-10-23T14:07:29.447048Z"
    },
    "id": "ZQQ9TC1bKtpo",
    "papermill": {
     "duration": 0.050342,
     "end_time": "2022-10-23T14:07:29.449965",
     "exception": false,
     "start_time": "2022-10-23T14:07:29.399623",
     "status": "completed"
    },
    "tags": []
   },
   "outputs": [],
   "source": [
    "class PatentClassificationModel(torch.nn.Module):\n",
    "    def __init__(self, cfg):\n",
    "        super().__init__()\n",
    "        self.cfg = cfg\n",
    "        self.model_config = AutoConfig.from_pretrained(self.cfg.BERT_FOR_PATENTS_PATH, output_hidden_states=False)\n",
    "        self.model_config.max_position_embeddings = CFG.MAX_TOKEN_LEN\n",
    "        self.model = AutoModel.from_pretrained(self.cfg.BERT_FOR_PATENTS_PATH, config = self.model_config, ignore_mismatched_sizes=True) \n",
    "        '''\n",
    "        self.attention = torch.nn.Sequential(torch.nn.Linear(self.model_config.hidden_size, self.cfg.ATTENTION_INTERMEDIATE_SIZE),\n",
    "                                             torch.nn.Tanh(),\n",
    "                                             torch.nn.Linear(self.cfg.ATTENTION_INTERMEDIATE_SIZE, 1),\n",
    "                                            torch.nn.Softmax(dim=1))\n",
    "        self.fc_dropout = torch.nn.Dropout(self.cfg.DROPOUT_PROB)\n",
    "        '''\n",
    "        self.fc = torch.nn.Linear(self.model_config.hidden_size, self.cfg.NUM_CLASSES)\n",
    "        self._init_weights(self.fc)\n",
    "        \n",
    "        \n",
    "    def _init_weights(self, module):\n",
    "        if isinstance(module, torch.nn.Linear):\n",
    "            module.weight.data.normal_(mean=0.0, std=self.model_config.initializer_range)\n",
    "            if module.bias is not None:\n",
    "                module.bias.data.zero_()\n",
    "        elif isinstance(module, torch.nn.Embedding):\n",
    "            module.weight.data.normal_(mean=0.0, std=self.model_config.initializer_range)\n",
    "            if module.padding_idx is not None:\n",
    "                module.weight.data[module.padding_idx].zero_()\n",
    "        elif isinstance(module, torch.nn.LayerNorm):\n",
    "            module.bias.data.zero_()\n",
    "            module.weight.data.fill_(1.0)\n",
    "        \n",
    "    def forward(self, inputs):\n",
    "        #one abstract can have multiple cpc codes, hence pass a list of cpc codes for each abstract\n",
    "        model_outputs = self.model(**inputs)\n",
    "        outputs = model_outputs.pooler_output\n",
    "        outputs = self.fc(outputs)\n",
    "        return outputs\n",
    "        "
   ]
  },
  {
   "cell_type": "markdown",
   "id": "8c4f0e50",
   "metadata": {
    "id": "oO3ENUylC0_R",
    "papermill": {
     "duration": 0.01039,
     "end_time": "2022-10-23T14:07:29.470530",
     "exception": false,
     "start_time": "2022-10-23T14:07:29.460140",
     "status": "completed"
    },
    "tags": []
   },
   "source": [
    "### Helper functions"
   ]
  },
  {
   "cell_type": "code",
   "execution_count": 17,
   "id": "033ae72c",
   "metadata": {
    "execution": {
     "iopub.execute_input": "2022-10-23T14:07:29.493593Z",
     "iopub.status.busy": "2022-10-23T14:07:29.493244Z",
     "iopub.status.idle": "2022-10-23T14:07:29.542159Z",
     "shell.execute_reply": "2022-10-23T14:07:29.541140Z"
    },
    "id": "R3vv8eHfC0_S",
    "papermill": {
     "duration": 0.063747,
     "end_time": "2022-10-23T14:07:29.544979",
     "exception": false,
     "start_time": "2022-10-23T14:07:29.481232",
     "status": "completed"
    },
    "tags": []
   },
   "outputs": [],
   "source": [
    "class AverageMeter(object):\n",
    "    \"\"\"Computes and stores the average and current value\"\"\"\n",
    "    def __init__(self):\n",
    "        self.reset()\n",
    "\n",
    "    def reset(self):\n",
    "        self.val = 0\n",
    "        self.avg = 0\n",
    "        self.sum = 0\n",
    "        self.count = 0\n",
    "\n",
    "    def update(self, val, n=1):\n",
    "        self.val = val\n",
    "        self.sum += val * n\n",
    "        self.count += n\n",
    "        self.avg = self.sum / self.count\n",
    "        \n",
    "def asMinutes(s):\n",
    "    m = math.floor(s / 60)\n",
    "    s -= m * 60\n",
    "    return '%dm %ds' % (m, s)\n",
    "\n",
    "\n",
    "def timeSince(since, percent):\n",
    "    now = time.time()\n",
    "    s = now - since\n",
    "    es = s / (percent)\n",
    "    rs = es - s\n",
    "    return '%s (remain %s)' % (asMinutes(s), asMinutes(rs))\n",
    "\n",
    "def get_optimizer_params(model, encoder_lr, decoder_lr, weight_decay=0.0):\n",
    "    #param_optimizer = list(model.named_parameters())\n",
    "    no_decay = [\"bias\", \"LayerNorm.bias\", \"LayerNorm.weight\"]\n",
    "    optimizer_parameters = [\n",
    "        {'params': [p for n, p in model.model.named_parameters() if (not any(nd in n for nd in no_decay)) and p.requires_grad],\n",
    "         'lr': encoder_lr, 'weight_decay': weight_decay},\n",
    "        {'params': [p for n, p in model.model.named_parameters() if any(nd in n for nd in no_decay) and p.requires_grad],\n",
    "         'lr': encoder_lr, 'weight_decay': 0.0},\n",
    "        {'params': [p for n, p in model.named_parameters() if (\"model\" not in n) and p.requires_grad],\n",
    "         'lr': decoder_lr, 'weight_decay': 0.0}\n",
    "    ]\n",
    "    return optimizer_parameters\n",
    "\n",
    "\n",
    "    \n",
    "# ====================================================\n",
    "# scheduler\n",
    "# ====================================================\n",
    "def get_scheduler(cfg, optimizer, num_train_steps):\n",
    "    if cfg.SCHEDULER == 'linear':\n",
    "        scheduler = get_linear_schedule_with_warmup(\n",
    "            optimizer, num_warmup_steps=cfg.NUM_WARMUP_STEPS, num_training_steps=num_train_steps\n",
    "        )\n",
    "    elif cfg.SCHEDULER == 'cosine':\n",
    "        scheduler = get_cosine_schedule_with_warmup(\n",
    "            optimizer, num_warmup_steps=cfg.NUM_WARMUP_STEPS, num_training_steps=num_train_steps, num_cycles=cfg.NUM_CYCLES\n",
    "        )\n",
    "    return scheduler\n",
    "\n",
    "\n",
    "# ====================================================\n",
    "# Function to calculate loss\n",
    "# ====================================================\n",
    "def get_loss(preds, labels, criterion):\n",
    "    loss = criterion(preds.view(-1, 1), labels.view(-1, 1))  \n",
    "    loss = loss.item()\n",
    "    return loss\n",
    "    \n",
    "\n",
    "def train_fn(train_dataloader, num_batches, model, criterion, optimizer, epoch, scheduler, device):\n",
    "    \n",
    "    model.train()\n",
    "    #scaler = torch.cuda.amp.GradScaler()\n",
    "    loss_info = AverageMeter()\n",
    "    start = end = time.time()\n",
    "    \n",
    "    print(f\"=========================== Training Model: Epoch {epoch+1} =====================================\")\n",
    "    \n",
    "    for idx, batch in enumerate(train_dataloader):\n",
    "                \n",
    "        inputs, labels = batch\n",
    "        \n",
    "        for k, v in inputs.items():\n",
    "            inputs[k] = v.to(device)\n",
    "        labels = labels.to(device)\n",
    "        \n",
    "        batch_size = labels.size(0)\n",
    "        \n",
    "        \n",
    "        #with torch.autocast(device_type = device.type):\n",
    "        #model_run_start = time.time()\n",
    "        outputs = model(inputs)\n",
    "        #model_run_end = time.time()\n",
    "        #print(\"Model run time: \", model_run_end - model_run_start, \" s\")\n",
    "        loss = criterion(outputs.view(-1, 1), labels.view(-1, 1))\n",
    "            \n",
    "        loss_info.update(loss.item(), batch_size)\n",
    "        \n",
    "        \n",
    "        # Calculate and scale gradients\n",
    "        #scaler.scale(loss).backward()\n",
    "        #backprop_run_start = time.time()\n",
    "        loss.backward()\n",
    "        #backprop_run_end = time.time()\n",
    "        #print(\"Backprop step time: \", backprop_run_end - backprop_run_start, \" s\")\n",
    "        \n",
    "        #grad_norm = torch.nn.utils.clip_grad_norm_(model.parameters(), CFG.MAX_GRAD_NORM)\n",
    "        grad_norm = 0\n",
    "        \n",
    "        \n",
    "        # Update Weights and Biases, Scaler\n",
    "        #scaler.step(optimizer)\n",
    "        #optimizer_run_start = time.time()\n",
    "        optimizer.step()\n",
    "        #optimizer_run_end = time.time()\n",
    "        #print(\"Optimizer step time: \", optimizer_run_end - optimizer_run_start, \" s\")\n",
    "        \n",
    "        #scaler.update()\n",
    "        \n",
    "        #Update Scheduler\n",
    "        scheduler.step()\n",
    "        \n",
    "        # Set all gradients to 0\n",
    "        optimizer.zero_grad(set_to_none = True)\n",
    "        \n",
    " \n",
    "        \n",
    "        if idx % CFG.PRINT_FREQ == 0 or idx == num_batches - 1:\n",
    "            print('Epoch: [{0}][{1}/{2}] '\n",
    "                  'Elapsed {remain:s} '\n",
    "                  'Loss: {loss.val:.4f}({loss.avg:.4f}) '\n",
    "                  'Grad (Invalid): {grad_norm:.4f}  '\n",
    "                  'LR: {lr:.8f}  '\n",
    "                  .format(epoch+1, idx+1, num_batches, \n",
    "                          remain=timeSince(start, float(idx+1)/num_batches),\n",
    "                          loss=loss_info,\n",
    "                          grad_norm=grad_norm,\n",
    "                          lr=scheduler.get_lr()[0]))\n",
    "            \n",
    "        if idx == int(CFG.MID_EPOCH_SAVE_PERCENT*(num_batches - 1)):\n",
    "            torch.save({'model': model.state_dict()}, \n",
    "                       CFG.OUTPUT_DIR + f\"BERT_For_Patents_FineTuned_{CFG.MID_EPOCH_SAVE_PERCENT*(2*epoch+1)}.pth\")\n",
    "            \n",
    "        torch.cuda.empty_cache()\n",
    "        \n",
    "        if idx >= (num_batches - 1):\n",
    "            break\n",
    "    print(f\"==================================== Epoch {epoch+1} Training Done ===========================================\\n\")\n",
    "    \n",
    "    return loss_info.avg\n",
    "\n",
    "def valid_fn(valid_dataloader, num_batches, model, criterion, epoch, device):\n",
    "    \n",
    "    model.eval()\n",
    "    loss_info = AverageMeter()\n",
    "    start = end = time.time()\n",
    "    \n",
    "    print(f\"=========================== Validating Model Trained on Epoch {epoch+1} =====================================\")\n",
    "    \n",
    "    for idx, batch in enumerate(valid_dataloader):\n",
    "                \n",
    "        inputs, labels = batch\n",
    "        \n",
    "        batch_size = labels.size(0)\n",
    "        \n",
    "        for k, v in inputs.items():\n",
    "            inputs[k] = v.to(device)\n",
    "        labels = labels.to(device)\n",
    "        \n",
    "        \n",
    "        #with torch.autocast(device_type = device.type):\n",
    "        with torch.no_grad():\n",
    "            outputs = model(inputs)\n",
    "        loss = criterion(outputs.view(-1, 1), labels.view(-1, 1))      \n",
    "                    \n",
    "        loss_info.update(loss.item(), batch_size)\n",
    "        try:\n",
    "            preds_concat = torch.cat((preds_concat, outputs), dim = 0)\n",
    "            labels_concat = torch.cat((labels_concat, labels), dim = 0)\n",
    "        except:    \n",
    "            preds_concat = outputs\n",
    "            labels_concat = labels\n",
    "        \n",
    "        if idx % CFG.PRINT_FREQ == 0 or idx == num_batches - 1:\n",
    "            print('Epoch: [{0}][{1}/{2}] '\n",
    "                  'Elapsed {remain:s} '\n",
    "                  'Loss: {loss.val:.4f}({loss.avg:.4f}) '\n",
    "                  .format(epoch+1, idx+1, num_batches, \n",
    "                          remain=timeSince(start, float(idx+1)/num_batches),\n",
    "                          loss=loss_info))\n",
    "        \n",
    "        torch.cuda.empty_cache()\n",
    "        \n",
    "        if idx >= (num_batches - 1):\n",
    "            break\n",
    "            \n",
    "    overall_val_loss = get_loss(preds_concat, labels_concat, criterion)\n",
    "    \n",
    "    print(f\"==================================== Epoch {epoch+1} Validation Done ===========================================\\n\")\n",
    "        \n",
    "    return overall_val_loss\\\n",
    "\n",
    "\n",
    "def infer_fn(test_dataloader, num_batches, model, criterion, device):\n",
    "    \n",
    "    model.eval()\n",
    "    \n",
    "    print(f\"=========================== Testing Trained Model =====================================\")\n",
    "    \n",
    "    for idx, batch in enumerate(test_dataloader):\n",
    "                \n",
    "        inputs, labels = batch\n",
    "        \n",
    "        batch_size = labels.size(0)\n",
    "        \n",
    "        for k, v in inputs.items():\n",
    "            inputs[k] = v.to(device)\n",
    "        labels = labels.to(device)\n",
    "        \n",
    "        \n",
    "        #with torch.autocast(device_type = device.type):\n",
    "        with torch.no_grad():\n",
    "            outputs = model(inputs)\n",
    "\n",
    "        try:\n",
    "            preds_concat = torch.cat((preds_concat, outputs), dim = 0)\n",
    "            labels_concat = torch.cat((labels_concat, labels), dim = 0)\n",
    "        except:    \n",
    "            preds_concat = outputs\n",
    "            labels_concat = labels\n",
    "            \n",
    "        if idx % CFG.PRINT_FREQ == 0 or idx == num_batches - 1:\n",
    "            print(f\"[{idx + 1}/{num_batches}] Batches Done\")\n",
    "        \n",
    "        \n",
    "        torch.cuda.empty_cache()\n",
    "        \n",
    "        if idx >= (num_batches - 1):\n",
    "            break\n",
    "            \n",
    "    overall_test_loss = get_loss(preds_concat, labels_concat, criterion)\n",
    "    \n",
    "    print(f\"==================================== Testing Done ===========================================\\n\")\n",
    "        \n",
    "    return overall_test_loss"
   ]
  },
  {
   "cell_type": "markdown",
   "id": "a8d21b9e",
   "metadata": {
    "id": "tg78r61EC0_S",
    "papermill": {
     "duration": 0.011354,
     "end_time": "2022-10-23T14:07:29.572161",
     "exception": false,
     "start_time": "2022-10-23T14:07:29.560807",
     "status": "completed"
    },
    "tags": []
   },
   "source": [
    "### Training loop"
   ]
  },
  {
   "cell_type": "code",
   "execution_count": 18,
   "id": "655052d1",
   "metadata": {
    "execution": {
     "iopub.execute_input": "2022-10-23T14:07:29.589008Z",
     "iopub.status.busy": "2022-10-23T14:07:29.588707Z",
     "iopub.status.idle": "2022-10-23T14:07:29.601106Z",
     "shell.execute_reply": "2022-10-23T14:07:29.600242Z"
    },
    "id": "tVEz812xC0_S",
    "papermill": {
     "duration": 0.02339,
     "end_time": "2022-10-23T14:07:29.603163",
     "exception": false,
     "start_time": "2022-10-23T14:07:29.579773",
     "status": "completed"
    },
    "tags": []
   },
   "outputs": [],
   "source": [
    "def train_loop():\n",
    "        \n",
    "    model = PatentClassificationModel(CFG)\n",
    "    \n",
    "    for n, p in model.named_parameters():\n",
    "        if n != 'fc.weight' and n != 'fc.bias':\n",
    "            p.requires_grad = False\n",
    "            \n",
    "    model.to(device)\n",
    "    \n",
    "    #optimizer_parameters = get_optimizer_params(model,encoder_lr=CFG.ENCODER_LR,decoder_lr=CFG.DECODER_LR,weight_decay=CFG.WEIGHT_DECAY)\n",
    "    optimizer_parameters = [p for p in model.parameters() if p.requires_grad]\n",
    "    \n",
    "    optimizer = AdamW(optimizer_parameters, lr=CFG.ENCODER_LR, eps=CFG.EPS, betas=CFG.BETAS)\n",
    "    \n",
    "    num_train_batches = math.ceil(len(train_df)/CFG.BATCH_SIZE)\n",
    "    num_val_batches = math.ceil(len(valid_df)/CFG.BATCH_SIZE)\n",
    "    num_train_steps = num_train_batches * CFG.NUM_EPOCHS\n",
    "    \n",
    "    scheduler = get_scheduler(CFG, optimizer, num_train_steps)\n",
    "    \n",
    "    # ====================================================\n",
    "    # loop\n",
    "    # ====================================================\n",
    "    criterion = torch.nn.BCEWithLogitsLoss(reduction=\"mean\")\n",
    "    \n",
    "    best_loss = CFG.INFINITY\n",
    "    best_epoch = 0\n",
    "    \n",
    "    train_dataset = PatentClassification_TrainDataset(CFG, cpc_code_section_dict, train_df)\n",
    "    valid_dataset = PatentClassification_TrainDataset(CFG, cpc_code_section_dict, valid_df)\n",
    "    \n",
    "    #num_workers = 2 gives best speed (for GPU)\n",
    "    train_dataloader = DataLoader(train_dataset, batch_size = None, num_workers = 2) \n",
    "    valid_dataloader = DataLoader(valid_dataset, batch_size = None, num_workers = 2) \n",
    "    \n",
    "    \n",
    "    for epoch in range(CFG.NUM_EPOCHS):   \n",
    "        \n",
    "        start_time = time.time()\n",
    "        \n",
    "        #train\n",
    "        avg_train_loss = train_fn(train_dataloader, num_train_batches, model, criterion, optimizer, epoch, scheduler, device)\n",
    "        \n",
    "        #eval\n",
    "        overall_val_loss = valid_fn(valid_dataloader, num_val_batches, model, criterion, epoch, device)\n",
    "        \n",
    "        elapsed = time.time() - start_time\n",
    "        \n",
    "        print(f\"Epoch {epoch+1} - avg_train_loss: {avg_train_loss:.4f}, overall_val_loss: {overall_val_loss: 4f} time: {elapsed:.0f}s \\n\")\n",
    "        torch.save({'model': model.state_dict()}, CFG.OUTPUT_DIR + f\"BERT_For_Patents_FineTuned_{epoch+1}.pth\")\n",
    "            \n",
    "        if overall_val_loss < best_loss:\n",
    "            best_loss = overall_val_loss\n",
    "            best_epoch = epoch + 1\n",
    "            torch.save({'model': model.state_dict()}, CFG.OUTPUT_DIR  + \"BERT_For_Patents_FineTuned.pth\")\n",
    "            \n",
    "    print(f'Best Epoch {best_epoch} - Best Loss: {best_loss:.4f}')\n",
    "            \n",
    "    torch.cuda.empty_cache()\n",
    "    gc.collect()\n",
    "              "
   ]
  },
  {
   "cell_type": "code",
   "execution_count": 19,
   "id": "d05f5eeb",
   "metadata": {
    "execution": {
     "iopub.execute_input": "2022-10-23T14:07:29.619676Z",
     "iopub.status.busy": "2022-10-23T14:07:29.619089Z",
     "iopub.status.idle": "2022-10-23T14:07:29.626688Z",
     "shell.execute_reply": "2022-10-23T14:07:29.625722Z"
    },
    "papermill": {
     "duration": 0.017989,
     "end_time": "2022-10-23T14:07:29.628782",
     "exception": false,
     "start_time": "2022-10-23T14:07:29.610793",
     "status": "completed"
    },
    "tags": []
   },
   "outputs": [],
   "source": [
    "def inference_loop():\n",
    "    \n",
    "    model = PatentClassificationModel(CFG)\n",
    "    model.to(device)\n",
    "    state = torch.load(CFG.TRAINED_MODEL_PATH, map_location=device)\n",
    "    model.load_state_dict(state['model'])\n",
    "    \n",
    "    num_test_batches = math.ceil(len(test_df)/CFG.BATCH_SIZE)\n",
    "    \n",
    "    criterion = torch.nn.BCEWithLogitsLoss(reduction=\"mean\")\n",
    "    \n",
    "    test_dataset = PatentClassification_TrainDataset(CFG, cpc_code_section_dict, test_df)\n",
    "    \n",
    "    test_dataloader = DataLoader(test_dataset, batch_size = None, num_workers = 2) \n",
    "    \n",
    "    start_time = time.time()\n",
    "    \n",
    "    overall_test_loss = infer_fn(test_dataloader, num_test_batches, model, criterion, device)\n",
    "    \n",
    "    elapsed = time.time() - start_time\n",
    "    \n",
    "    print(f\"Testing Loss: {overall_test_loss: .4f} \\n Time Elapsed: {elapsed}\")\n",
    "    \n",
    "    "
   ]
  },
  {
   "cell_type": "code",
   "execution_count": 20,
   "id": "8958ed43",
   "metadata": {
    "execution": {
     "iopub.execute_input": "2022-10-23T14:07:29.644927Z",
     "iopub.status.busy": "2022-10-23T14:07:29.644661Z",
     "iopub.status.idle": "2022-10-23T15:10:34.571768Z",
     "shell.execute_reply": "2022-10-23T15:10:34.570533Z"
    },
    "id": "oKG0pRqtC0_T",
    "outputId": "32abe0e2-c720-48cf-e97b-3fbca6abf802",
    "papermill": {
     "duration": 3784.946663,
     "end_time": "2022-10-23T15:10:34.582842",
     "exception": false,
     "start_time": "2022-10-23T14:07:29.636179",
     "status": "completed"
    },
    "tags": []
   },
   "outputs": [
    {
     "name": "stderr",
     "output_type": "stream",
     "text": [
      "Some weights of the model checkpoint at ../input/bert-for-patents/bert-for-patents-pytorch were not used when initializing BertModel: ['cls.predictions.transform.LayerNorm.bias', 'cls.predictions.transform.dense.weight', 'cls.predictions.decoder.weight', 'cls.seq_relationship.weight', 'cls.predictions.transform.LayerNorm.weight', 'cls.predictions.decoder.bias', 'cls.seq_relationship.bias', 'cls.predictions.bias', 'cls.predictions.transform.dense.bias']\n",
      "- This IS expected if you are initializing BertModel from the checkpoint of a model trained on another task or with another architecture (e.g. initializing a BertForSequenceClassification model from a BertForPreTraining model).\n",
      "- This IS NOT expected if you are initializing BertModel from the checkpoint of a model that you expect to be exactly identical (initializing a BertForSequenceClassification model from a BertForSequenceClassification model).\n"
     ]
    },
    {
     "name": "stdout",
     "output_type": "stream",
     "text": [
      "=========================== Testing Trained Model =====================================\n",
      "[1/8584] Batches Done\n",
      "[1001/8584] Batches Done\n",
      "[2001/8584] Batches Done\n",
      "[3001/8584] Batches Done\n",
      "[4001/8584] Batches Done\n",
      "[5001/8584] Batches Done\n",
      "[6001/8584] Batches Done\n",
      "[7001/8584] Batches Done\n",
      "[8001/8584] Batches Done\n",
      "[8584/8584] Batches Done\n",
      "==================================== Testing Done ===========================================\n",
      "\n",
      "Testing Loss:  0.2342 \n",
      " Time Elapsed: 3754.203192472458\n"
     ]
    }
   ],
   "source": [
    "if __name__ == '__main__':\n",
    "    \n",
    "    torch.cuda.empty_cache()\n",
    "    gc.collect()\n",
    "    \n",
    "    if CFG.F_TRAIN:\n",
    "        train_loop()\n",
    "    else:\n",
    "        inference_loop()\n",
    "        \n",
    "        "
   ]
  },
  {
   "cell_type": "code",
   "execution_count": null,
   "id": "7b107cd7",
   "metadata": {
    "id": "gx8HH0lJKtpq",
    "papermill": {
     "duration": 0.007478,
     "end_time": "2022-10-23T15:10:34.598473",
     "exception": false,
     "start_time": "2022-10-23T15:10:34.590995",
     "status": "completed"
    },
    "tags": []
   },
   "outputs": [],
   "source": []
  }
 ],
 "metadata": {
  "kernelspec": {
   "display_name": "Python 3",
   "language": "python",
   "name": "python3"
  },
  "language_info": {
   "codemirror_mode": {
    "name": "ipython",
    "version": 3
   },
   "file_extension": ".py",
   "mimetype": "text/x-python",
   "name": "python",
   "nbconvert_exporter": "python",
   "pygments_lexer": "ipython3",
   "version": "3.7.12"
  },
  "papermill": {
   "default_parameters": {},
   "duration": 3876.955012,
   "end_time": "2022-10-23T15:10:38.412133",
   "environment_variables": {},
   "exception": null,
   "input_path": "__notebook__.ipynb",
   "output_path": "__notebook__.ipynb",
   "parameters": {},
   "start_time": "2022-10-23T14:06:01.457121",
   "version": "2.3.4"
  }
 },
 "nbformat": 4,
 "nbformat_minor": 5
}
